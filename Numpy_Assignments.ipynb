{
 "cells": [
  {
   "cell_type": "markdown",
   "metadata": {},
   "source": [
    "# (☆☆☆) 100 Numpy Exercises (★★★)"
   ]
  },
  {
   "cell_type": "markdown",
   "metadata": {},
   "source": [
    "###  1. Import the numpy package under the name"
   ]
  },
  {
   "cell_type": "code",
   "execution_count": 3,
   "metadata": {},
   "outputs": [],
   "source": [
    "import numpy as np"
   ]
  },
  {
   "cell_type": "markdown",
   "metadata": {},
   "source": [
    "### 2.  Print the numpy version and the configuration"
   ]
  },
  {
   "cell_type": "code",
   "execution_count": 2,
   "metadata": {},
   "outputs": [
    {
     "name": "stdout",
     "output_type": "stream",
     "text": [
      "NumPy Version: 1.24.3\n",
      "NumPy Configuration:\n",
      "blas_armpl_info:\n",
      "  NOT AVAILABLE\n",
      "blas_mkl_info:\n",
      "    libraries = ['mkl_rt', 'pthread']\n",
      "    library_dirs = ['/home/predictive_an001/miniconda3/envs/datascience/lib']\n",
      "    define_macros = [('SCIPY_MKL_H', None), ('HAVE_CBLAS', None)]\n",
      "    include_dirs = ['/home/predictive_an001/miniconda3/envs/datascience/include']\n",
      "blas_opt_info:\n",
      "    libraries = ['mkl_rt', 'pthread']\n",
      "    library_dirs = ['/home/predictive_an001/miniconda3/envs/datascience/lib']\n",
      "    define_macros = [('SCIPY_MKL_H', None), ('HAVE_CBLAS', None)]\n",
      "    include_dirs = ['/home/predictive_an001/miniconda3/envs/datascience/include']\n",
      "lapack_armpl_info:\n",
      "  NOT AVAILABLE\n",
      "lapack_mkl_info:\n",
      "    libraries = ['mkl_rt', 'pthread']\n",
      "    library_dirs = ['/home/predictive_an001/miniconda3/envs/datascience/lib']\n",
      "    define_macros = [('SCIPY_MKL_H', None), ('HAVE_CBLAS', None)]\n",
      "    include_dirs = ['/home/predictive_an001/miniconda3/envs/datascience/include']\n",
      "lapack_opt_info:\n",
      "    libraries = ['mkl_rt', 'pthread']\n",
      "    library_dirs = ['/home/predictive_an001/miniconda3/envs/datascience/lib']\n",
      "    define_macros = [('SCIPY_MKL_H', None), ('HAVE_CBLAS', None)]\n",
      "    include_dirs = ['/home/predictive_an001/miniconda3/envs/datascience/include']\n",
      "Supported SIMD extensions in this NumPy install:\n",
      "    baseline = SSE,SSE2,SSE3\n",
      "    found = SSSE3,SSE41,POPCNT,SSE42,AVX,F16C,FMA3,AVX2\n",
      "    not found = AVX512F,AVX512CD,AVX512_KNL,AVX512_KNM,AVX512_SKX,AVX512_CLX,AVX512_CNL,AVX512_ICL\n",
      "None\n"
     ]
    }
   ],
   "source": [
    "print(\"NumPy Version:\", np.__version__)\n",
    "print(\"NumPy Configuration:\")\n",
    "print(np.show_config())"
   ]
  },
  {
   "cell_type": "markdown",
   "metadata": {},
   "source": [
    "### 3.  Create a null vector of size 10"
   ]
  },
  {
   "cell_type": "code",
   "execution_count": 3,
   "metadata": {},
   "outputs": [
    {
     "name": "stdout",
     "output_type": "stream",
     "text": [
      "Null vector of size 10: [0. 0. 0. 0. 0. 0. 0. 0. 0. 0.]\n"
     ]
    }
   ],
   "source": [
    "null_vector = np.zeros(10)\n",
    "print(\"Null vector of size 10:\", null_vector)"
   ]
  },
  {
   "cell_type": "markdown",
   "metadata": {},
   "source": [
    "### 4.  How to find the memory size of any array"
   ]
  },
  {
   "cell_type": "code",
   "execution_count": 4,
   "metadata": {},
   "outputs": [
    {
     "name": "stdout",
     "output_type": "stream",
     "text": [
      "Memory size of the array: 40 bytes\n"
     ]
    }
   ],
   "source": [
    "array = np.array([1, 2, 3, 4, 5])\n",
    "print(\"Memory size of the array:\", array.nbytes, \"bytes\")"
   ]
  },
  {
   "cell_type": "markdown",
   "metadata": {},
   "source": [
    "### 5. How to get the documentation of the numpy add function from the command line?"
   ]
  },
  {
   "cell_type": "code",
   "execution_count": 5,
   "metadata": {},
   "outputs": [
    {
     "name": "stdout",
     "output_type": "stream",
     "text": [
      "Help on ufunc object:\n",
      "\n",
      "add = class ufunc(builtins.object)\n",
      " |  Functions that operate element by element on whole arrays.\n",
      " |  \n",
      " |  To see the documentation for a specific ufunc, use `info`.  For\n",
      " |  example, ``np.info(np.sin)``.  Because ufuncs are written in C\n",
      " |  (for speed) and linked into Python with NumPy's ufunc facility,\n",
      " |  Python's help() function finds this page whenever help() is called\n",
      " |  on a ufunc.\n",
      " |  \n",
      " |  A detailed explanation of ufuncs can be found in the docs for :ref:`ufuncs`.\n",
      " |  \n",
      " |  **Calling ufuncs:** ``op(*x[, out], where=True, **kwargs)``\n",
      " |  \n",
      " |  Apply `op` to the arguments `*x` elementwise, broadcasting the arguments.\n",
      " |  \n",
      " |  The broadcasting rules are:\n",
      " |  \n",
      " |  * Dimensions of length 1 may be prepended to either array.\n",
      " |  * Arrays may be repeated along dimensions of length 1.\n",
      " |  \n",
      " |  Parameters\n",
      " |  ----------\n",
      " |  *x : array_like\n",
      " |      Input arrays.\n",
      " |  out : ndarray, None, or tuple of ndarray and None, optional\n",
      " |      Alternate array object(s) in which to put the result; if provided, it\n",
      " |      must have a shape that the inputs broadcast to. A tuple of arrays\n",
      " |      (possible only as a keyword argument) must have length equal to the\n",
      " |      number of outputs; use None for uninitialized outputs to be\n",
      " |      allocated by the ufunc.\n",
      " |  where : array_like, optional\n",
      " |      This condition is broadcast over the input. At locations where the\n",
      " |      condition is True, the `out` array will be set to the ufunc result.\n",
      " |      Elsewhere, the `out` array will retain its original value.\n",
      " |      Note that if an uninitialized `out` array is created via the default\n",
      " |      ``out=None``, locations within it where the condition is False will\n",
      " |      remain uninitialized.\n",
      " |  **kwargs\n",
      " |      For other keyword-only arguments, see the :ref:`ufunc docs <ufuncs.kwargs>`.\n",
      " |  \n",
      " |  Returns\n",
      " |  -------\n",
      " |  r : ndarray or tuple of ndarray\n",
      " |      `r` will have the shape that the arrays in `x` broadcast to; if `out` is\n",
      " |      provided, it will be returned. If not, `r` will be allocated and\n",
      " |      may contain uninitialized values. If the function has more than one\n",
      " |      output, then the result will be a tuple of arrays.\n",
      " |  \n",
      " |  Methods defined here:\n",
      " |  \n",
      " |  __call__(self, /, *args, **kwargs)\n",
      " |      Call self as a function.\n",
      " |  \n",
      " |  __repr__(self, /)\n",
      " |      Return repr(self).\n",
      " |  \n",
      " |  __str__(self, /)\n",
      " |      Return str(self).\n",
      " |  \n",
      " |  accumulate(...)\n",
      " |      accumulate(array, axis=0, dtype=None, out=None)\n",
      " |      \n",
      " |      Accumulate the result of applying the operator to all elements.\n",
      " |      \n",
      " |      For a one-dimensional array, accumulate produces results equivalent to::\n",
      " |      \n",
      " |        r = np.empty(len(A))\n",
      " |        t = op.identity        # op = the ufunc being applied to A's  elements\n",
      " |        for i in range(len(A)):\n",
      " |            t = op(t, A[i])\n",
      " |            r[i] = t\n",
      " |        return r\n",
      " |      \n",
      " |      For example, add.accumulate() is equivalent to np.cumsum().\n",
      " |      \n",
      " |      For a multi-dimensional array, accumulate is applied along only one\n",
      " |      axis (axis zero by default; see Examples below) so repeated use is\n",
      " |      necessary if one wants to accumulate over multiple axes.\n",
      " |      \n",
      " |      Parameters\n",
      " |      ----------\n",
      " |      array : array_like\n",
      " |          The array to act on.\n",
      " |      axis : int, optional\n",
      " |          The axis along which to apply the accumulation; default is zero.\n",
      " |      dtype : data-type code, optional\n",
      " |          The data-type used to represent the intermediate results. Defaults\n",
      " |          to the data-type of the output array if such is provided, or the\n",
      " |          data-type of the input array if no output array is provided.\n",
      " |      out : ndarray, None, or tuple of ndarray and None, optional\n",
      " |          A location into which the result is stored. If not provided or None,\n",
      " |          a freshly-allocated array is returned. For consistency with\n",
      " |          ``ufunc.__call__``, if given as a keyword, this may be wrapped in a\n",
      " |          1-element tuple.\n",
      " |      \n",
      " |          .. versionchanged:: 1.13.0\n",
      " |             Tuples are allowed for keyword argument.\n",
      " |      \n",
      " |      Returns\n",
      " |      -------\n",
      " |      r : ndarray\n",
      " |          The accumulated values. If `out` was supplied, `r` is a reference to\n",
      " |          `out`.\n",
      " |      \n",
      " |      Examples\n",
      " |      --------\n",
      " |      1-D array examples:\n",
      " |      \n",
      " |      >>> np.add.accumulate([2, 3, 5])\n",
      " |      array([ 2,  5, 10])\n",
      " |      >>> np.multiply.accumulate([2, 3, 5])\n",
      " |      array([ 2,  6, 30])\n",
      " |      \n",
      " |      2-D array examples:\n",
      " |      \n",
      " |      >>> I = np.eye(2)\n",
      " |      >>> I\n",
      " |      array([[1.,  0.],\n",
      " |             [0.,  1.]])\n",
      " |      \n",
      " |      Accumulate along axis 0 (rows), down columns:\n",
      " |      \n",
      " |      >>> np.add.accumulate(I, 0)\n",
      " |      array([[1.,  0.],\n",
      " |             [1.,  1.]])\n",
      " |      >>> np.add.accumulate(I) # no axis specified = axis zero\n",
      " |      array([[1.,  0.],\n",
      " |             [1.,  1.]])\n",
      " |      \n",
      " |      Accumulate along axis 1 (columns), through rows:\n",
      " |      \n",
      " |      >>> np.add.accumulate(I, 1)\n",
      " |      array([[1.,  1.],\n",
      " |             [0.,  1.]])\n",
      " |  \n",
      " |  at(...)\n",
      " |      at(a, indices, b=None, /)\n",
      " |      \n",
      " |      Performs unbuffered in place operation on operand 'a' for elements\n",
      " |      specified by 'indices'. For addition ufunc, this method is equivalent to\n",
      " |      ``a[indices] += b``, except that results are accumulated for elements that\n",
      " |      are indexed more than once. For example, ``a[[0,0]] += 1`` will only\n",
      " |      increment the first element once because of buffering, whereas\n",
      " |      ``add.at(a, [0,0], 1)`` will increment the first element twice.\n",
      " |      \n",
      " |      .. versionadded:: 1.8.0\n",
      " |      \n",
      " |      Parameters\n",
      " |      ----------\n",
      " |      a : array_like\n",
      " |          The array to perform in place operation on.\n",
      " |      indices : array_like or tuple\n",
      " |          Array like index object or slice object for indexing into first\n",
      " |          operand. If first operand has multiple dimensions, indices can be a\n",
      " |          tuple of array like index objects or slice objects.\n",
      " |      b : array_like\n",
      " |          Second operand for ufuncs requiring two operands. Operand must be\n",
      " |          broadcastable over first operand after indexing or slicing.\n",
      " |      \n",
      " |      Examples\n",
      " |      --------\n",
      " |      Set items 0 and 1 to their negative values:\n",
      " |      \n",
      " |      >>> a = np.array([1, 2, 3, 4])\n",
      " |      >>> np.negative.at(a, [0, 1])\n",
      " |      >>> a\n",
      " |      array([-1, -2,  3,  4])\n",
      " |      \n",
      " |      Increment items 0 and 1, and increment item 2 twice:\n",
      " |      \n",
      " |      >>> a = np.array([1, 2, 3, 4])\n",
      " |      >>> np.add.at(a, [0, 1, 2, 2], 1)\n",
      " |      >>> a\n",
      " |      array([2, 3, 5, 4])\n",
      " |      \n",
      " |      Add items 0 and 1 in first array to second array,\n",
      " |      and store results in first array:\n",
      " |      \n",
      " |      >>> a = np.array([1, 2, 3, 4])\n",
      " |      >>> b = np.array([1, 2])\n",
      " |      >>> np.add.at(a, [0, 1], b)\n",
      " |      >>> a\n",
      " |      array([2, 4, 3, 4])\n",
      " |  \n",
      " |  outer(...)\n",
      " |      outer(A, B, /, **kwargs)\n",
      " |      \n",
      " |      Apply the ufunc `op` to all pairs (a, b) with a in `A` and b in `B`.\n",
      " |      \n",
      " |      Let ``M = A.ndim``, ``N = B.ndim``. Then the result, `C`, of\n",
      " |      ``op.outer(A, B)`` is an array of dimension M + N such that:\n",
      " |      \n",
      " |      .. math:: C[i_0, ..., i_{M-1}, j_0, ..., j_{N-1}] =\n",
      " |         op(A[i_0, ..., i_{M-1}], B[j_0, ..., j_{N-1}])\n",
      " |      \n",
      " |      For `A` and `B` one-dimensional, this is equivalent to::\n",
      " |      \n",
      " |        r = empty(len(A),len(B))\n",
      " |        for i in range(len(A)):\n",
      " |            for j in range(len(B)):\n",
      " |                r[i,j] = op(A[i], B[j])  # op = ufunc in question\n",
      " |      \n",
      " |      Parameters\n",
      " |      ----------\n",
      " |      A : array_like\n",
      " |          First array\n",
      " |      B : array_like\n",
      " |          Second array\n",
      " |      kwargs : any\n",
      " |          Arguments to pass on to the ufunc. Typically `dtype` or `out`.\n",
      " |          See `ufunc` for a comprehensive overview of all available arguments.\n",
      " |      \n",
      " |      Returns\n",
      " |      -------\n",
      " |      r : ndarray\n",
      " |          Output array\n",
      " |      \n",
      " |      See Also\n",
      " |      --------\n",
      " |      numpy.outer : A less powerful version of ``np.multiply.outer``\n",
      " |                    that `ravel`\\ s all inputs to 1D. This exists\n",
      " |                    primarily for compatibility with old code.\n",
      " |      \n",
      " |      tensordot : ``np.tensordot(a, b, axes=((), ()))`` and\n",
      " |                  ``np.multiply.outer(a, b)`` behave same for all\n",
      " |                  dimensions of a and b.\n",
      " |      \n",
      " |      Examples\n",
      " |      --------\n",
      " |      >>> np.multiply.outer([1, 2, 3], [4, 5, 6])\n",
      " |      array([[ 4,  5,  6],\n",
      " |             [ 8, 10, 12],\n",
      " |             [12, 15, 18]])\n",
      " |      \n",
      " |      A multi-dimensional example:\n",
      " |      \n",
      " |      >>> A = np.array([[1, 2, 3], [4, 5, 6]])\n",
      " |      >>> A.shape\n",
      " |      (2, 3)\n",
      " |      >>> B = np.array([[1, 2, 3, 4]])\n",
      " |      >>> B.shape\n",
      " |      (1, 4)\n",
      " |      >>> C = np.multiply.outer(A, B)\n",
      " |      >>> C.shape; C\n",
      " |      (2, 3, 1, 4)\n",
      " |      array([[[[ 1,  2,  3,  4]],\n",
      " |              [[ 2,  4,  6,  8]],\n",
      " |              [[ 3,  6,  9, 12]]],\n",
      " |             [[[ 4,  8, 12, 16]],\n",
      " |              [[ 5, 10, 15, 20]],\n",
      " |              [[ 6, 12, 18, 24]]]])\n",
      " |  \n",
      " |  reduce(...)\n",
      " |      reduce(array, axis=0, dtype=None, out=None, keepdims=False, initial=<no value>, where=True)\n",
      " |      \n",
      " |      Reduces `array`'s dimension by one, by applying ufunc along one axis.\n",
      " |      \n",
      " |      Let :math:`array.shape = (N_0, ..., N_i, ..., N_{M-1})`.  Then\n",
      " |      :math:`ufunc.reduce(array, axis=i)[k_0, ..,k_{i-1}, k_{i+1}, .., k_{M-1}]` =\n",
      " |      the result of iterating `j` over :math:`range(N_i)`, cumulatively applying\n",
      " |      ufunc to each :math:`array[k_0, ..,k_{i-1}, j, k_{i+1}, .., k_{M-1}]`.\n",
      " |      For a one-dimensional array, reduce produces results equivalent to:\n",
      " |      ::\n",
      " |      \n",
      " |       r = op.identity # op = ufunc\n",
      " |       for i in range(len(A)):\n",
      " |         r = op(r, A[i])\n",
      " |       return r\n",
      " |      \n",
      " |      For example, add.reduce() is equivalent to sum().\n",
      " |      \n",
      " |      Parameters\n",
      " |      ----------\n",
      " |      array : array_like\n",
      " |          The array to act on.\n",
      " |      axis : None or int or tuple of ints, optional\n",
      " |          Axis or axes along which a reduction is performed.\n",
      " |          The default (`axis` = 0) is perform a reduction over the first\n",
      " |          dimension of the input array. `axis` may be negative, in\n",
      " |          which case it counts from the last to the first axis.\n",
      " |      \n",
      " |          .. versionadded:: 1.7.0\n",
      " |      \n",
      " |          If this is None, a reduction is performed over all the axes.\n",
      " |          If this is a tuple of ints, a reduction is performed on multiple\n",
      " |          axes, instead of a single axis or all the axes as before.\n",
      " |      \n",
      " |          For operations which are either not commutative or not associative,\n",
      " |          doing a reduction over multiple axes is not well-defined. The\n",
      " |          ufuncs do not currently raise an exception in this case, but will\n",
      " |          likely do so in the future.\n",
      " |      dtype : data-type code, optional\n",
      " |          The type used to represent the intermediate results. Defaults\n",
      " |          to the data-type of the output array if this is provided, or\n",
      " |          the data-type of the input array if no output array is provided.\n",
      " |      out : ndarray, None, or tuple of ndarray and None, optional\n",
      " |          A location into which the result is stored. If not provided or None,\n",
      " |          a freshly-allocated array is returned. For consistency with\n",
      " |          ``ufunc.__call__``, if given as a keyword, this may be wrapped in a\n",
      " |          1-element tuple.\n",
      " |      \n",
      " |          .. versionchanged:: 1.13.0\n",
      " |             Tuples are allowed for keyword argument.\n",
      " |      keepdims : bool, optional\n",
      " |          If this is set to True, the axes which are reduced are left\n",
      " |          in the result as dimensions with size one. With this option,\n",
      " |          the result will broadcast correctly against the original `array`.\n",
      " |      \n",
      " |          .. versionadded:: 1.7.0\n",
      " |      initial : scalar, optional\n",
      " |          The value with which to start the reduction.\n",
      " |          If the ufunc has no identity or the dtype is object, this defaults\n",
      " |          to None - otherwise it defaults to ufunc.identity.\n",
      " |          If ``None`` is given, the first element of the reduction is used,\n",
      " |          and an error is thrown if the reduction is empty.\n",
      " |      \n",
      " |          .. versionadded:: 1.15.0\n",
      " |      \n",
      " |      where : array_like of bool, optional\n",
      " |          A boolean array which is broadcasted to match the dimensions\n",
      " |          of `array`, and selects elements to include in the reduction. Note\n",
      " |          that for ufuncs like ``minimum`` that do not have an identity\n",
      " |          defined, one has to pass in also ``initial``.\n",
      " |      \n",
      " |          .. versionadded:: 1.17.0\n",
      " |      \n",
      " |      Returns\n",
      " |      -------\n",
      " |      r : ndarray\n",
      " |          The reduced array. If `out` was supplied, `r` is a reference to it.\n",
      " |      \n",
      " |      Examples\n",
      " |      --------\n",
      " |      >>> np.multiply.reduce([2,3,5])\n",
      " |      30\n",
      " |      \n",
      " |      A multi-dimensional array example:\n",
      " |      \n",
      " |      >>> X = np.arange(8).reshape((2,2,2))\n",
      " |      >>> X\n",
      " |      array([[[0, 1],\n",
      " |              [2, 3]],\n",
      " |             [[4, 5],\n",
      " |              [6, 7]]])\n",
      " |      >>> np.add.reduce(X, 0)\n",
      " |      array([[ 4,  6],\n",
      " |             [ 8, 10]])\n",
      " |      >>> np.add.reduce(X) # confirm: default axis value is 0\n",
      " |      array([[ 4,  6],\n",
      " |             [ 8, 10]])\n",
      " |      >>> np.add.reduce(X, 1)\n",
      " |      array([[ 2,  4],\n",
      " |             [10, 12]])\n",
      " |      >>> np.add.reduce(X, 2)\n",
      " |      array([[ 1,  5],\n",
      " |             [ 9, 13]])\n",
      " |      \n",
      " |      You can use the ``initial`` keyword argument to initialize the reduction\n",
      " |      with a different value, and ``where`` to select specific elements to include:\n",
      " |      \n",
      " |      >>> np.add.reduce([10], initial=5)\n",
      " |      15\n",
      " |      >>> np.add.reduce(np.ones((2, 2, 2)), axis=(0, 2), initial=10)\n",
      " |      array([14., 14.])\n",
      " |      >>> a = np.array([10., np.nan, 10])\n",
      " |      >>> np.add.reduce(a, where=~np.isnan(a))\n",
      " |      20.0\n",
      " |      \n",
      " |      Allows reductions of empty arrays where they would normally fail, i.e.\n",
      " |      for ufuncs without an identity.\n",
      " |      \n",
      " |      >>> np.minimum.reduce([], initial=np.inf)\n",
      " |      inf\n",
      " |      >>> np.minimum.reduce([[1., 2.], [3., 4.]], initial=10., where=[True, False])\n",
      " |      array([ 1., 10.])\n",
      " |      >>> np.minimum.reduce([])\n",
      " |      Traceback (most recent call last):\n",
      " |          ...\n",
      " |      ValueError: zero-size array to reduction operation minimum which has no identity\n",
      " |  \n",
      " |  reduceat(...)\n",
      " |      reduceat(array, indices, axis=0, dtype=None, out=None)\n",
      " |      \n",
      " |      Performs a (local) reduce with specified slices over a single axis.\n",
      " |      \n",
      " |      For i in ``range(len(indices))``, `reduceat` computes\n",
      " |      ``ufunc.reduce(array[indices[i]:indices[i+1]])``, which becomes the i-th\n",
      " |      generalized \"row\" parallel to `axis` in the final result (i.e., in a\n",
      " |      2-D array, for example, if `axis = 0`, it becomes the i-th row, but if\n",
      " |      `axis = 1`, it becomes the i-th column).  There are three exceptions to this:\n",
      " |      \n",
      " |      * when ``i = len(indices) - 1`` (so for the last index),\n",
      " |        ``indices[i+1] = array.shape[axis]``.\n",
      " |      * if ``indices[i] >= indices[i + 1]``, the i-th generalized \"row\" is\n",
      " |        simply ``array[indices[i]]``.\n",
      " |      * if ``indices[i] >= len(array)`` or ``indices[i] < 0``, an error is raised.\n",
      " |      \n",
      " |      The shape of the output depends on the size of `indices`, and may be\n",
      " |      larger than `array` (this happens if ``len(indices) > array.shape[axis]``).\n",
      " |      \n",
      " |      Parameters\n",
      " |      ----------\n",
      " |      array : array_like\n",
      " |          The array to act on.\n",
      " |      indices : array_like\n",
      " |          Paired indices, comma separated (not colon), specifying slices to\n",
      " |          reduce.\n",
      " |      axis : int, optional\n",
      " |          The axis along which to apply the reduceat.\n",
      " |      dtype : data-type code, optional\n",
      " |          The type used to represent the intermediate results. Defaults\n",
      " |          to the data type of the output array if this is provided, or\n",
      " |          the data type of the input array if no output array is provided.\n",
      " |      out : ndarray, None, or tuple of ndarray and None, optional\n",
      " |          A location into which the result is stored. If not provided or None,\n",
      " |          a freshly-allocated array is returned. For consistency with\n",
      " |          ``ufunc.__call__``, if given as a keyword, this may be wrapped in a\n",
      " |          1-element tuple.\n",
      " |      \n",
      " |          .. versionchanged:: 1.13.0\n",
      " |             Tuples are allowed for keyword argument.\n",
      " |      \n",
      " |      Returns\n",
      " |      -------\n",
      " |      r : ndarray\n",
      " |          The reduced values. If `out` was supplied, `r` is a reference to\n",
      " |          `out`.\n",
      " |      \n",
      " |      Notes\n",
      " |      -----\n",
      " |      A descriptive example:\n",
      " |      \n",
      " |      If `array` is 1-D, the function `ufunc.accumulate(array)` is the same as\n",
      " |      ``ufunc.reduceat(array, indices)[::2]`` where `indices` is\n",
      " |      ``range(len(array) - 1)`` with a zero placed\n",
      " |      in every other element:\n",
      " |      ``indices = zeros(2 * len(array) - 1)``,\n",
      " |      ``indices[1::2] = range(1, len(array))``.\n",
      " |      \n",
      " |      Don't be fooled by this attribute's name: `reduceat(array)` is not\n",
      " |      necessarily smaller than `array`.\n",
      " |      \n",
      " |      Examples\n",
      " |      --------\n",
      " |      To take the running sum of four successive values:\n",
      " |      \n",
      " |      >>> np.add.reduceat(np.arange(8),[0,4, 1,5, 2,6, 3,7])[::2]\n",
      " |      array([ 6, 10, 14, 18])\n",
      " |      \n",
      " |      A 2-D example:\n",
      " |      \n",
      " |      >>> x = np.linspace(0, 15, 16).reshape(4,4)\n",
      " |      >>> x\n",
      " |      array([[ 0.,   1.,   2.,   3.],\n",
      " |             [ 4.,   5.,   6.,   7.],\n",
      " |             [ 8.,   9.,  10.,  11.],\n",
      " |             [12.,  13.,  14.,  15.]])\n",
      " |      \n",
      " |      ::\n",
      " |      \n",
      " |       # reduce such that the result has the following five rows:\n",
      " |       # [row1 + row2 + row3]\n",
      " |       # [row4]\n",
      " |       # [row2]\n",
      " |       # [row3]\n",
      " |       # [row1 + row2 + row3 + row4]\n",
      " |      \n",
      " |      >>> np.add.reduceat(x, [0, 3, 1, 2, 0])\n",
      " |      array([[12.,  15.,  18.,  21.],\n",
      " |             [12.,  13.,  14.,  15.],\n",
      " |             [ 4.,   5.,   6.,   7.],\n",
      " |             [ 8.,   9.,  10.,  11.],\n",
      " |             [24.,  28.,  32.,  36.]])\n",
      " |      \n",
      " |      ::\n",
      " |      \n",
      " |       # reduce such that result has the following two columns:\n",
      " |       # [col1 * col2 * col3, col4]\n",
      " |      \n",
      " |      >>> np.multiply.reduceat(x, [0, 3], 1)\n",
      " |      array([[   0.,     3.],\n",
      " |             [ 120.,     7.],\n",
      " |             [ 720.,    11.],\n",
      " |             [2184.,    15.]])\n",
      " |  \n",
      " |  resolve_dtypes(...)\n",
      " |      resolve_dtypes(dtypes, *, signature=None, casting=None, reduction=False)\n",
      " |      \n",
      " |      Find the dtypes NumPy will use for the operation.  Both input and\n",
      " |      output dtypes are returned and may differ from those provided.\n",
      " |      \n",
      " |      .. note::\n",
      " |      \n",
      " |          This function always applies NEP 50 rules since it is not provided\n",
      " |          any actual values.  The Python types ``int``, ``float``, and\n",
      " |          ``complex`` thus behave weak and should be passed for \"untyped\"\n",
      " |          Python input.\n",
      " |      \n",
      " |      Parameters\n",
      " |      ----------\n",
      " |      dtypes : tuple of dtypes, None, or literal int, float, complex\n",
      " |          The input dtypes for each operand.  Output operands can be\n",
      " |          None, indicating that the dtype must be found.\n",
      " |      signature : tuple of DTypes or None, optional\n",
      " |          If given, enforces exact DType (classes) of the specific operand.\n",
      " |          The ufunc ``dtype`` argument is equivalent to passing a tuple with\n",
      " |          only output dtypes set.\n",
      " |      casting : {'no', 'equiv', 'safe', 'same_kind', 'unsafe'}, optional\n",
      " |          The casting mode when casting is necessary.  This is identical to\n",
      " |          the ufunc call casting modes.\n",
      " |      reduction : boolean\n",
      " |          If given, the resolution assumes a reduce operation is happening\n",
      " |          which slightly changes the promotion and type resolution rules.\n",
      " |          `dtypes` is usually something like ``(None, np.dtype(\"i2\"), None)``\n",
      " |          for reductions (first input is also the output).\n",
      " |      \n",
      " |          .. note::\n",
      " |      \n",
      " |              The default casting mode is \"same_kind\", however, as of\n",
      " |              NumPy 1.24, NumPy uses \"unsafe\" for reductions.\n",
      " |      \n",
      " |      Returns\n",
      " |      -------\n",
      " |      dtypes : tuple of dtypes\n",
      " |          The dtypes which NumPy would use for the calculation.  Note that\n",
      " |          dtypes may not match the passed in ones (casting is necessary).\n",
      " |      \n",
      " |      See Also\n",
      " |      --------\n",
      " |      numpy.ufunc._resolve_dtypes_and_context :\n",
      " |          Similar function to this, but returns additional information which\n",
      " |          give access to the core C functionality of NumPy.\n",
      " |      \n",
      " |      Examples\n",
      " |      --------\n",
      " |      This API requires passing dtypes, define them for convenience:\n",
      " |      \n",
      " |      >>> int32 = np.dtype(\"int32\")\n",
      " |      >>> float32 = np.dtype(\"float32\")\n",
      " |      \n",
      " |      The typical ufunc call does not pass an output dtype.  `np.add` has two\n",
      " |      inputs and one output, so leave the output as ``None`` (not provided):\n",
      " |      \n",
      " |      >>> np.add.resolve_dtypes((int32, float32, None))\n",
      " |      (dtype('float64'), dtype('float64'), dtype('float64'))\n",
      " |      \n",
      " |      The loop found uses \"float64\" for all operands (including the output), the\n",
      " |      first input would be cast.\n",
      " |      \n",
      " |      ``resolve_dtypes`` supports \"weak\" handling for Python scalars by passing\n",
      " |      ``int``, ``float``, or ``complex``:\n",
      " |      \n",
      " |      >>> np.add.resolve_dtypes((float32, float, None))\n",
      " |      (dtype('float32'), dtype('float32'), dtype('float32'))\n",
      " |      \n",
      " |      Where the Python ``float`` behaves samilar to a Python value ``0.0``\n",
      " |      in a ufunc call.  (See :ref:`NEP 50 <NEP50>` for details.)\n",
      " |  \n",
      " |  ----------------------------------------------------------------------\n",
      " |  Data descriptors defined here:\n",
      " |  \n",
      " |  identity\n",
      " |      The identity value.\n",
      " |      \n",
      " |      Data attribute containing the identity element for the ufunc, if it has one.\n",
      " |      If it does not, the attribute value is None.\n",
      " |      \n",
      " |      Examples\n",
      " |      --------\n",
      " |      >>> np.add.identity\n",
      " |      0\n",
      " |      >>> np.multiply.identity\n",
      " |      1\n",
      " |      >>> np.power.identity\n",
      " |      1\n",
      " |      >>> print(np.exp.identity)\n",
      " |      None\n",
      " |  \n",
      " |  nargs\n",
      " |      The number of arguments.\n",
      " |      \n",
      " |      Data attribute containing the number of arguments the ufunc takes, including\n",
      " |      optional ones.\n",
      " |      \n",
      " |      Notes\n",
      " |      -----\n",
      " |      Typically this value will be one more than what you might expect because all\n",
      " |      ufuncs take  the optional \"out\" argument.\n",
      " |      \n",
      " |      Examples\n",
      " |      --------\n",
      " |      >>> np.add.nargs\n",
      " |      3\n",
      " |      >>> np.multiply.nargs\n",
      " |      3\n",
      " |      >>> np.power.nargs\n",
      " |      3\n",
      " |      >>> np.exp.nargs\n",
      " |      2\n",
      " |  \n",
      " |  nin\n",
      " |      The number of inputs.\n",
      " |      \n",
      " |      Data attribute containing the number of arguments the ufunc treats as input.\n",
      " |      \n",
      " |      Examples\n",
      " |      --------\n",
      " |      >>> np.add.nin\n",
      " |      2\n",
      " |      >>> np.multiply.nin\n",
      " |      2\n",
      " |      >>> np.power.nin\n",
      " |      2\n",
      " |      >>> np.exp.nin\n",
      " |      1\n",
      " |  \n",
      " |  nout\n",
      " |      The number of outputs.\n",
      " |      \n",
      " |      Data attribute containing the number of arguments the ufunc treats as output.\n",
      " |      \n",
      " |      Notes\n",
      " |      -----\n",
      " |      Since all ufuncs can take output arguments, this will always be (at least) 1.\n",
      " |      \n",
      " |      Examples\n",
      " |      --------\n",
      " |      >>> np.add.nout\n",
      " |      1\n",
      " |      >>> np.multiply.nout\n",
      " |      1\n",
      " |      >>> np.power.nout\n",
      " |      1\n",
      " |      >>> np.exp.nout\n",
      " |      1\n",
      " |  \n",
      " |  ntypes\n",
      " |      The number of types.\n",
      " |      \n",
      " |      The number of numerical NumPy types - of which there are 18 total - on which\n",
      " |      the ufunc can operate.\n",
      " |      \n",
      " |      See Also\n",
      " |      --------\n",
      " |      numpy.ufunc.types\n",
      " |      \n",
      " |      Examples\n",
      " |      --------\n",
      " |      >>> np.add.ntypes\n",
      " |      18\n",
      " |      >>> np.multiply.ntypes\n",
      " |      18\n",
      " |      >>> np.power.ntypes\n",
      " |      17\n",
      " |      >>> np.exp.ntypes\n",
      " |      7\n",
      " |      >>> np.remainder.ntypes\n",
      " |      14\n",
      " |  \n",
      " |  signature\n",
      " |      Definition of the core elements a generalized ufunc operates on.\n",
      " |      \n",
      " |      The signature determines how the dimensions of each input/output array\n",
      " |      are split into core and loop dimensions:\n",
      " |      \n",
      " |      1. Each dimension in the signature is matched to a dimension of the\n",
      " |         corresponding passed-in array, starting from the end of the shape tuple.\n",
      " |      2. Core dimensions assigned to the same label in the signature must have\n",
      " |         exactly matching sizes, no broadcasting is performed.\n",
      " |      3. The core dimensions are removed from all inputs and the remaining\n",
      " |         dimensions are broadcast together, defining the loop dimensions.\n",
      " |      \n",
      " |      Notes\n",
      " |      -----\n",
      " |      Generalized ufuncs are used internally in many linalg functions, and in\n",
      " |      the testing suite; the examples below are taken from these.\n",
      " |      For ufuncs that operate on scalars, the signature is None, which is\n",
      " |      equivalent to '()' for every argument.\n",
      " |      \n",
      " |      Examples\n",
      " |      --------\n",
      " |      >>> np.core.umath_tests.matrix_multiply.signature\n",
      " |      '(m,n),(n,p)->(m,p)'\n",
      " |      >>> np.linalg._umath_linalg.det.signature\n",
      " |      '(m,m)->()'\n",
      " |      >>> np.add.signature is None\n",
      " |      True  # equivalent to '(),()->()'\n",
      " |  \n",
      " |  types\n",
      " |      Returns a list with types grouped input->output.\n",
      " |      \n",
      " |      Data attribute listing the data-type \"Domain-Range\" groupings the ufunc can\n",
      " |      deliver. The data-types are given using the character codes.\n",
      " |      \n",
      " |      See Also\n",
      " |      --------\n",
      " |      numpy.ufunc.ntypes\n",
      " |      \n",
      " |      Examples\n",
      " |      --------\n",
      " |      >>> np.add.types\n",
      " |      ['??->?', 'bb->b', 'BB->B', 'hh->h', 'HH->H', 'ii->i', 'II->I', 'll->l',\n",
      " |      'LL->L', 'qq->q', 'QQ->Q', 'ff->f', 'dd->d', 'gg->g', 'FF->F', 'DD->D',\n",
      " |      'GG->G', 'OO->O']\n",
      " |      \n",
      " |      >>> np.multiply.types\n",
      " |      ['??->?', 'bb->b', 'BB->B', 'hh->h', 'HH->H', 'ii->i', 'II->I', 'll->l',\n",
      " |      'LL->L', 'qq->q', 'QQ->Q', 'ff->f', 'dd->d', 'gg->g', 'FF->F', 'DD->D',\n",
      " |      'GG->G', 'OO->O']\n",
      " |      \n",
      " |      >>> np.power.types\n",
      " |      ['bb->b', 'BB->B', 'hh->h', 'HH->H', 'ii->i', 'II->I', 'll->l', 'LL->L',\n",
      " |      'qq->q', 'QQ->Q', 'ff->f', 'dd->d', 'gg->g', 'FF->F', 'DD->D', 'GG->G',\n",
      " |      'OO->O']\n",
      " |      \n",
      " |      >>> np.exp.types\n",
      " |      ['f->f', 'd->d', 'g->g', 'F->F', 'D->D', 'G->G', 'O->O']\n",
      " |      \n",
      " |      >>> np.remainder.types\n",
      " |      ['bb->b', 'BB->B', 'hh->h', 'HH->H', 'ii->i', 'II->I', 'll->l', 'LL->L',\n",
      " |      'qq->q', 'QQ->Q', 'ff->f', 'dd->d', 'gg->g', 'OO->O']\n",
      "\n"
     ]
    }
   ],
   "source": [
    "# using the help command line\n",
    "help(np.add)"
   ]
  },
  {
   "cell_type": "markdown",
   "metadata": {},
   "source": [
    "### 6. Create a null vector of size 10 but the fifth value which is 1"
   ]
  },
  {
   "cell_type": "code",
   "execution_count": 7,
   "metadata": {},
   "outputs": [
    {
     "name": "stdout",
     "output_type": "stream",
     "text": [
      "[0. 0. 0. 0. 0. 0. 0. 0. 0. 0.]\n",
      "[0. 0. 0. 0. 1. 0. 0. 0. 0. 0.]\n"
     ]
    }
   ],
   "source": [
    "null_vector = np.zeros(10)\n",
    "print(null_vector)\n",
    "\n",
    "# Modify the fifth element to be 1\n",
    "null_vector[4] = 1\n",
    "\n",
    "print(null_vector)"
   ]
  },
  {
   "cell_type": "markdown",
   "metadata": {},
   "source": [
    "### 7. Create a vector with values ranging from 10 to 49"
   ]
  },
  {
   "cell_type": "code",
   "execution_count": 8,
   "metadata": {},
   "outputs": [
    {
     "name": "stdout",
     "output_type": "stream",
     "text": [
      "[10 11 12 13 14 15 16 17 18 19 20 21 22 23 24 25 26 27 28 29 30 31 32 33\n",
      " 34 35 36 37 38 39 40 41 42 43 44 45 46 47 48 49]\n"
     ]
    }
   ],
   "source": [
    "vector = np.arange(10, 50)\n",
    "print(vector)"
   ]
  },
  {
   "cell_type": "markdown",
   "metadata": {},
   "source": [
    "### 8. Reverse a vector (first element becomes last)"
   ]
  },
  {
   "cell_type": "code",
   "execution_count": 10,
   "metadata": {},
   "outputs": [
    {
     "name": "stdout",
     "output_type": "stream",
     "text": [
      "[49 48 47 46 45 44 43 42 41 40 39 38 37 36 35 34 33 32 31 30 29 28 27 26\n",
      " 25 24 23 22 21 20 19 18 17 16 15 14 13 12 11 10]\n"
     ]
    }
   ],
   "source": [
    "reversed_vector = vector[::-1]\n",
    "print(reversed_vector)"
   ]
  },
  {
   "cell_type": "markdown",
   "metadata": {},
   "source": [
    "### 9. Create a 3x3 matrix with values ranging from 0 to 8"
   ]
  },
  {
   "cell_type": "code",
   "execution_count": 11,
   "metadata": {},
   "outputs": [
    {
     "name": "stdout",
     "output_type": "stream",
     "text": [
      "[[0 1 2]\n",
      " [3 4 5]\n",
      " [6 7 8]]\n"
     ]
    }
   ],
   "source": [
    "values = np.arange(9)\n",
    "\n",
    "# using the reshape method\n",
    "matrix = values.reshape(3,3)\n",
    "print(matrix)"
   ]
  },
  {
   "cell_type": "markdown",
   "metadata": {},
   "source": [
    "### 10. Find indices of non-zero elements from [1,2,0,0,4,0]"
   ]
  },
  {
   "cell_type": "code",
   "execution_count": 12,
   "metadata": {},
   "outputs": [
    {
     "name": "stdout",
     "output_type": "stream",
     "text": [
      "(array([0, 1, 4]),)\n"
     ]
    }
   ],
   "source": [
    "elements = np.array([1, 2, 0, 0, 4, 0])\n",
    "\n",
    "print(np.nonzero(elements))\n",
    "\n",
    "# The output indicates that the non-zero elements are located at indices 0, 1, and 4 in the elements array."
   ]
  },
  {
   "cell_type": "markdown",
   "metadata": {},
   "source": [
    "### 11. Create a 3x3 identity matrix "
   ]
  },
  {
   "cell_type": "code",
   "execution_count": 13,
   "metadata": {},
   "outputs": [
    {
     "name": "stdout",
     "output_type": "stream",
     "text": [
      "[[1. 0. 0.]\n",
      " [0. 1. 0.]\n",
      " [0. 0. 1.]]\n"
     ]
    }
   ],
   "source": [
    "identity_matrix = np.eye(3)\n",
    "print(identity_matrix)"
   ]
  },
  {
   "cell_type": "markdown",
   "metadata": {},
   "source": [
    "### 12. Create a 3x3x3 array with random values"
   ]
  },
  {
   "cell_type": "code",
   "execution_count": 14,
   "metadata": {},
   "outputs": [
    {
     "name": "stdout",
     "output_type": "stream",
     "text": [
      "[[[0.90208252 0.2882561  0.97727406]\n",
      "  [0.17026819 0.13478638 0.26636844]\n",
      "  [0.50156616 0.42347032 0.06290975]]\n",
      "\n",
      " [[0.36574239 0.46468198 0.67926374]\n",
      "  [0.39828505 0.71038165 0.11328681]\n",
      "  [0.20122052 0.54570197 0.87589414]]\n",
      "\n",
      " [[0.02107776 0.56894616 0.05842541]\n",
      "  [0.0993137  0.48686705 0.86091613]\n",
      "  [0.17098492 0.00305991 0.55544015]]]\n"
     ]
    }
   ],
   "source": [
    "random_3d_array = np.random.random((3, 3, 3))\n",
    "print(random_3d_array)"
   ]
  },
  {
   "cell_type": "markdown",
   "metadata": {},
   "source": [
    "### 13. Create a 10x10 array with random values and find the minimum and maximum values"
   ]
  },
  {
   "cell_type": "code",
   "execution_count": 16,
   "metadata": {},
   "outputs": [
    {
     "name": "stdout",
     "output_type": "stream",
     "text": [
      "[[0.09345477 0.22087784 0.58109555 0.72276115 0.76119843 0.44682432\n",
      "  0.25132009 0.55283628 0.19694895 0.76670559]\n",
      " [0.07831311 0.99756957 0.06060545 0.79644658 0.39099952 0.85124481\n",
      "  0.54543317 0.92814959 0.2676571  0.8889708 ]\n",
      " [0.38087238 0.00249127 0.20352705 0.87535782 0.69783172 0.93982443\n",
      "  0.76226281 0.09604078 0.53555661 0.67570052]\n",
      " [0.78138838 0.81305042 0.82975814 0.70822024 0.94821467 0.1734969\n",
      "  0.15857206 0.36187988 0.51583158 0.51240456]\n",
      " [0.43226553 0.03382979 0.69218721 0.17915825 0.02394909 0.91947532\n",
      "  0.70487319 0.71240306 0.87640171 0.59941673]\n",
      " [0.75929489 0.42017729 0.60869813 0.34379099 0.76649132 0.79881744\n",
      "  0.21770827 0.50912224 0.18468468 0.31171497]\n",
      " [0.41441625 0.28126695 0.86087186 0.5050039  0.24394751 0.4626319\n",
      "  0.79959034 0.02615107 0.33691277 0.03105864]\n",
      " [0.37906404 0.11670395 0.88312336 0.24075612 0.07014377 0.87606216\n",
      "  0.77310402 0.49419875 0.33077424 0.6223608 ]\n",
      " [0.1330206  0.14367662 0.40574129 0.63795655 0.83674685 0.9055006\n",
      "  0.71774797 0.32190497 0.56058391 0.15597886]\n",
      " [0.36007637 0.82969718 0.85699746 0.29252278 0.97523632 0.38804193\n",
      "  0.99015448 0.8394382  0.12453843 0.43140428]]\n",
      "\n",
      "Minimum value: 0.002491268373432942\n",
      "Maximum value: 0.9975695706840896\n"
     ]
    }
   ],
   "source": [
    "random_10x10_array = np.random.random((10, 10))\n",
    "print(random_10x10_array)\n",
    "print(\"\\nMinimum value:\", np.min(random_10x10_array))\n",
    "print(\"Maximum value:\", np.max(random_10x10_array))"
   ]
  },
  {
   "cell_type": "markdown",
   "metadata": {},
   "source": [
    "### 14. Create a random vector of size 30 and find the mean value "
   ]
  },
  {
   "cell_type": "code",
   "execution_count": 17,
   "metadata": {},
   "outputs": [
    {
     "name": "stdout",
     "output_type": "stream",
     "text": [
      "[0.71948101 0.26784769 0.74588042 0.72526092 0.80438084 0.09882595\n",
      " 0.46495418 0.22756014 0.69405069 0.40010417 0.77671072 0.57684869\n",
      " 0.93894893 0.79600034 0.72166303 0.81135956 0.0281242  0.79917019\n",
      " 0.86203065 0.06276153 0.28424242 0.16762785 0.20447055 0.07279741\n",
      " 0.06507217 0.08580103 0.4238625  0.25423103 0.27711262 0.98236463]\n",
      "\n",
      "Mean of random vector:  0.4779848682554875\n"
     ]
    }
   ],
   "source": [
    "random_vector = np.random.random(30)\n",
    "print(random_vector)\n",
    "print(\"\\nMean of random vector: \", np.mean(random_vector))"
   ]
  },
  {
   "cell_type": "markdown",
   "metadata": {},
   "source": [
    "### 15. Create a 2d array with 1 on the border and 0 inside"
   ]
  },
  {
   "cell_type": "code",
   "execution_count": 22,
   "metadata": {},
   "outputs": [
    {
     "name": "stdout",
     "output_type": "stream",
     "text": [
      "[[1. 1. 1. 1. 1.]\n",
      " [1. 1. 1. 1. 1.]\n",
      " [1. 1. 1. 1. 1.]\n",
      " [1. 1. 1. 1. 1.]\n",
      " [1. 1. 1. 1. 1.]]\n",
      "\n",
      "2D Array with 1 on Border and 0 Inside:\n",
      "[[1. 1. 1. 1. 1.]\n",
      " [1. 0. 0. 0. 1.]\n",
      " [1. 0. 0. 0. 1.]\n",
      " [1. 0. 0. 0. 1.]\n",
      " [1. 1. 1. 1. 1.]]\n"
     ]
    }
   ],
   "source": [
    "array_5x5 = np.ones((5, 5))\n",
    "print(array_5x5)\n",
    "array_5x5[1:-1, 1:-1] = 0\n",
    "print(\"\\n2D Array with 1 on Border and 0 Inside:\")\n",
    "print(array_5x5)"
   ]
  },
  {
   "cell_type": "markdown",
   "metadata": {},
   "source": [
    "### 16. How to add a border (filled with 0's) around an existing array?"
   ]
  },
  {
   "cell_type": "code",
   "execution_count": 23,
   "metadata": {},
   "outputs": [
    {
     "name": "stdout",
     "output_type": "stream",
     "text": [
      "Array with Border of 0's:\n",
      "[[0. 0. 0. 0. 0.]\n",
      " [0. 1. 1. 1. 0.]\n",
      " [0. 1. 1. 1. 0.]\n",
      " [0. 1. 1. 1. 0.]\n",
      " [0. 0. 0. 0. 0.]]\n"
     ]
    }
   ],
   "source": [
    "existing_array = np.ones((3, 3))\n",
    "\n",
    "# using the pad method\n",
    "bordered_array = np.pad(existing_array, pad_width=1, mode='constant', constant_values=0)\n",
    "print(\"Array with Border of 0's:\")\n",
    "print(bordered_array)\n"
   ]
  },
  {
   "cell_type": "markdown",
   "metadata": {},
   "source": [
    "### 17. What is the result of the following expression? "
   ]
  },
  {
   "cell_type": "raw",
   "metadata": {},
   "source": [
    "0 * np.nan\n",
    "np.nan == np.nan\n",
    "np.inf > np.nan\n",
    "np.nan - np.nan\n",
    "np.nan in set([np.nan])\n",
    "0.3 == 3 * 0.1"
   ]
  },
  {
   "cell_type": "code",
   "execution_count": 24,
   "metadata": {},
   "outputs": [
    {
     "name": "stdout",
     "output_type": "stream",
     "text": [
      "\n",
      "Result of expressions:\n",
      "nan\n",
      "False\n",
      "False\n",
      "nan\n",
      "True\n",
      "False\n"
     ]
    }
   ],
   "source": [
    "print(\"\\nResult of expressions:\")\n",
    "print(0 * np.nan)          # nan\n",
    "print(np.nan == np.nan)    # False\n",
    "print(np.inf > np.nan)     # False\n",
    "print(np.nan - np.nan)     # nan\n",
    "print(np.nan in set([np.nan]))  # True\n",
    "print(0.3 == 3 * 0.1)      # False"
   ]
  },
  {
   "cell_type": "markdown",
   "metadata": {},
   "source": [
    "### 18. Create a 5x5 matrix with values 1,2,3,4 just below the diagonal"
   ]
  },
  {
   "cell_type": "code",
   "execution_count": 25,
   "metadata": {},
   "outputs": [
    {
     "name": "stdout",
     "output_type": "stream",
     "text": [
      "[[0 0 0 0 0]\n",
      " [1 0 0 0 0]\n",
      " [0 2 0 0 0]\n",
      " [0 0 3 0 0]\n",
      " [0 0 0 4 0]]\n"
     ]
    }
   ],
   "source": [
    "matrix = np.diag(1 + np.arange(4), k=-1)\n",
    "print(matrix)"
   ]
  },
  {
   "cell_type": "markdown",
   "metadata": {},
   "source": [
    "### 19. Create a 8x8 matrix and fill it with a checkerboard pattern"
   ]
  },
  {
   "cell_type": "code",
   "execution_count": 26,
   "metadata": {},
   "outputs": [
    {
     "name": "stdout",
     "output_type": "stream",
     "text": [
      "\n",
      "Checkerboard Pattern:\n",
      "[[0 1 0 1 0 1 0 1]\n",
      " [1 0 1 0 1 0 1 0]\n",
      " [0 1 0 1 0 1 0 1]\n",
      " [1 0 1 0 1 0 1 0]\n",
      " [0 1 0 1 0 1 0 1]\n",
      " [1 0 1 0 1 0 1 0]\n",
      " [0 1 0 1 0 1 0 1]\n",
      " [1 0 1 0 1 0 1 0]]\n"
     ]
    }
   ],
   "source": [
    "checkerboard = np.zeros((8, 8), dtype=int)\n",
    "checkerboard[1::2, ::2] = 1\n",
    "checkerboard[::2, 1::2] = 1\n",
    "print(\"\\nCheckerboard Pattern:\")\n",
    "print(checkerboard)"
   ]
  },
  {
   "cell_type": "markdown",
   "metadata": {},
   "source": [
    "### 20. Consider a (6,7,8) shape array, what is the index (x,y,z) of the 100th element?"
   ]
  },
  {
   "cell_type": "code",
   "execution_count": 28,
   "metadata": {},
   "outputs": [
    {
     "name": "stdout",
     "output_type": "stream",
     "text": [
      "(1, 5, 3)\n"
     ]
    }
   ],
   "source": [
    "array_shape = (6, 7, 8)\n",
    "index_100th_element = np.unravel_index(99, array_shape)\n",
    "print(index_100th_element)\n"
   ]
  },
  {
   "cell_type": "markdown",
   "metadata": {},
   "source": [
    "### 21. Create a checkerboard 8x8 matrix using the tile function"
   ]
  },
  {
   "cell_type": "code",
   "execution_count": 36,
   "metadata": {},
   "outputs": [
    {
     "name": "stdout",
     "output_type": "stream",
     "text": [
      "[[0 1 0 1 0 1 0 1]\n",
      " [0 1 0 1 0 1 0 1]\n",
      " [0 1 0 1 0 1 0 1]\n",
      " [0 1 0 1 0 1 0 1]\n",
      " [0 1 0 1 0 1 0 1]\n",
      " [0 1 0 1 0 1 0 1]\n",
      " [0 1 0 1 0 1 0 1]\n",
      " [0 1 0 1 0 1 0 1]]\n"
     ]
    }
   ],
   "source": [
    "row_pattern = np.array([0, 1] * 4)\n",
    "checkerboard = np.tile(row_pattern, (8, 1))\n",
    "print(checkerboard)"
   ]
  },
  {
   "cell_type": "markdown",
   "metadata": {},
   "source": [
    "### 22. Normalize a 5x5 random matrix (★☆☆)"
   ]
  },
  {
   "cell_type": "code",
   "execution_count": 30,
   "metadata": {},
   "outputs": [
    {
     "name": "stdout",
     "output_type": "stream",
     "text": [
      "[[0.17835756 0.50586692 0.48092306 0.01290328 0.48807379]\n",
      " [0.03811483 0.81539975 0.55761622 0.48751706 0.19632548]\n",
      " [0.48252726 0.76863196 0.25929759 0.14175258 0.6158289 ]\n",
      " [0.06557847 0.18707225 0.18370243 0.48912378 0.26143143]\n",
      " [0.86676314 0.19638433 0.62043214 0.71123461 0.95217884]]\n",
      "\n",
      "The normalized matrix: \n",
      "[[-0.90846583  0.31010499  0.21729586 -1.52407497  0.24390174]\n",
      " [-1.43026986  1.46179018  0.50264967  0.2418303  -0.84161222]\n",
      " [ 0.22326465  1.28778029 -0.60731061 -1.04466272  0.71924281]\n",
      " [-1.32808531 -0.8760409  -0.88857907  0.24780847 -0.59937117]\n",
      " [ 1.65289899 -0.84139324  0.73637016  1.0742208   1.97070696]]\n"
     ]
    }
   ],
   "source": [
    "random_matrix = np.random.random((5, 5))\n",
    "mean_value = np.mean(random_matrix)\n",
    "std_dev = np.std(random_matrix)\n",
    "\n",
    "# Normalize the matrix\n",
    "normalized_matrix = (random_matrix - mean_value) / std_dev\n",
    "\n",
    "print(random_matrix)\n",
    "print(\"\\nThe normalized matrix: \")\n",
    "print(normalized_matrix)"
   ]
  },
  {
   "cell_type": "markdown",
   "metadata": {},
   "source": [
    "### 23. Create a custom dtype that describes a color as four unsigned bytes (RGBA) (★☆☆)"
   ]
  },
  {
   "cell_type": "code",
   "execution_count": 31,
   "metadata": {},
   "outputs": [
    {
     "name": "stdout",
     "output_type": "stream",
     "text": [
      "[('R', 'u1'), ('G', 'u1'), ('B', 'u1'), ('A', 'u1')]\n"
     ]
    }
   ],
   "source": [
    "color_dtype = np.dtype([('R', np.uint8),\n",
    "                        ('G', np.uint8),\n",
    "                        ('B', np.uint8),\n",
    "                        ('A', np.uint8)])\n",
    "print(color_dtype)"
   ]
  },
  {
   "cell_type": "markdown",
   "metadata": {},
   "source": [
    "### 24. Multiply a 5x3 matrix by a 3x2 matrix (real matrix product) (★☆☆)"
   ]
  },
  {
   "cell_type": "code",
   "execution_count": 32,
   "metadata": {},
   "outputs": [
    {
     "name": "stdout",
     "output_type": "stream",
     "text": [
      "[[0.3607899  0.19448432]\n",
      " [0.43446883 0.21567182]\n",
      " [0.34086961 0.16163494]\n",
      " [0.43815349 0.25626136]\n",
      " [0.88607807 0.42099819]]\n"
     ]
    }
   ],
   "source": [
    "matrix1 = np.random.random((5,3))\n",
    "matrix2 = np.random.random((3,2))\n",
    "\n",
    "# Multiply the matrices\n",
    "result_matrix = np.dot(matrix1, matrix2)\n",
    "\n",
    "print(result_matrix)"
   ]
  },
  {
   "cell_type": "markdown",
   "metadata": {},
   "source": [
    "### 25. Given a 1D array, negate all elements which are between 3 and 8, in place. (★☆☆)"
   ]
  },
  {
   "cell_type": "code",
   "execution_count": 33,
   "metadata": {},
   "outputs": [
    {
     "name": "stdout",
     "output_type": "stream",
     "text": [
      "[ 1 -5  3 -7  9  2 -6  8 -4]\n"
     ]
    }
   ],
   "source": [
    "arr_1D = np.array([1, 5, 3, 7, 9, 2, 6, 8, 4])\n",
    "\n",
    "# Negate elements between 3 and 8\n",
    "arr_1D[(arr_1D > 3) & (arr_1D < 8)] *= -1\n",
    "\n",
    "print(arr_1D)"
   ]
  },
  {
   "cell_type": "markdown",
   "metadata": {},
   "source": [
    "### 26. What is the output of the following script? (★☆☆)\n"
   ]
  },
  {
   "cell_type": "raw",
   "metadata": {},
   "source": [
    "Author: Jake VanderPlas\n",
    "\n",
    "print(sum(range(5),-1))\n",
    "from numpy import *\n",
    "print(sum(range(5),-1))"
   ]
  },
  {
   "cell_type": "code",
   "execution_count": 35,
   "metadata": {},
   "outputs": [
    {
     "name": "stdout",
     "output_type": "stream",
     "text": [
      "9\n",
      "10\n"
     ]
    }
   ],
   "source": [
    "print(sum(range(5),-1))\n",
    "from numpy import *\n",
    "print(sum(range(5),-1))"
   ]
  },
  {
   "cell_type": "markdown",
   "metadata": {},
   "source": [
    "### 27. Consider an integer vector Z, which of these expressions are legal? (★☆☆)"
   ]
  },
  {
   "cell_type": "raw",
   "metadata": {},
   "source": [
    "Z**Z\n",
    "2 << Z >> 2\n",
    "Z <- Z\n",
    "1j*Z\n",
    "Z/1/1\n",
    "Z<Z>Z"
   ]
  },
  {
   "cell_type": "raw",
   "metadata": {},
   "source": [
    "Z**Z: Legal, it raises each element of Z to the power of itself.\n",
    "2 << Z >> 2: Legal, it left-shifts each element of Z by 2 bits and then right-shifts it by 2 bits.\n",
    "Z <- Z: Legal, it checks if each element of Z is less than its negation.\n",
    "1j*Z: Legal, it multiplies each element of Z by the imaginary unit.\n",
    "Z/1/1: Legal, it divides each element of Z by 1 and then by 1 again.\n",
    "Z<Z>Z: Not Legal."
   ]
  },
  {
   "cell_type": "markdown",
   "metadata": {},
   "source": [
    "### 28. What are the result of the following expressions? (★☆☆)"
   ]
  },
  {
   "cell_type": "raw",
   "metadata": {},
   "source": [
    "np.array(0) / np.array(0)\n",
    "np.array(0) // np.array(0)\n",
    "np.array([np.nan]).astype(int).astype(float)"
   ]
  },
  {
   "cell_type": "code",
   "execution_count": 36,
   "metadata": {},
   "outputs": [
    {
     "name": "stderr",
     "output_type": "stream",
     "text": [
      "/tmp/ipykernel_2572/548293649.py:1: RuntimeWarning: invalid value encountered in divide\n",
      "  np.array(0) / np.array(0)\n",
      "/tmp/ipykernel_2572/548293649.py:2: RuntimeWarning: divide by zero encountered in floor_divide\n",
      "  np.array(0) // np.array(0)\n",
      "/tmp/ipykernel_2572/548293649.py:3: RuntimeWarning: invalid value encountered in cast\n",
      "  np.array([np.nan]).astype(int).astype(float)\n"
     ]
    },
    {
     "data": {
      "text/plain": [
       "array([-9.22337204e+18])"
      ]
     },
     "execution_count": 36,
     "metadata": {},
     "output_type": "execute_result"
    }
   ],
   "source": [
    "np.array(0) / np.array(0)\n",
    "np.array(0) // np.array(0)\n",
    "np.array([np.nan]).astype(int).astype(float)"
   ]
  },
  {
   "cell_type": "markdown",
   "metadata": {},
   "source": [
    "### 29. How to round away from zero a float array ? (★☆☆)"
   ]
  },
  {
   "cell_type": "code",
   "execution_count": 37,
   "metadata": {},
   "outputs": [
    {
     "name": "stdout",
     "output_type": "stream",
     "text": [
      "[-0. -0.  0.  0.]\n"
     ]
    }
   ],
   "source": [
    "float_array = np.array([-1.5, -0.5, 0.5, 1.5])\n",
    "rounded_array = np.round(float_array, decimals=-1)\n",
    "print(rounded_array)"
   ]
  },
  {
   "cell_type": "markdown",
   "metadata": {},
   "source": [
    "### 30. How to find common values between two arrays? (★☆☆)"
   ]
  },
  {
   "cell_type": "code",
   "execution_count": 40,
   "metadata": {},
   "outputs": [
    {
     "name": "stdout",
     "output_type": "stream",
     "text": [
      "[3 4 5]\n"
     ]
    }
   ],
   "source": [
    "array1 = np.array([1, 2, 3, 4, 5])\n",
    "array2 = np.array([3, 4, 5, 6, 7])\n",
    "\n",
    "common_values = np.intersect1d(array1, array2)\n",
    "print(common_values)"
   ]
  },
  {
   "cell_type": "markdown",
   "metadata": {},
   "source": [
    "### 31. How to ignore all numpy warnings (not recommended)? (★☆☆)"
   ]
  },
  {
   "cell_type": "code",
   "execution_count": 39,
   "metadata": {},
   "outputs": [],
   "source": [
    "import warnings\n",
    "\n",
    "# Ignore all numpy warnings\n",
    "warnings.filterwarnings('ignore', category=np.VisibleDeprecationWarning)"
   ]
  },
  {
   "cell_type": "markdown",
   "metadata": {},
   "source": [
    "### 32. Is the following expressions true? (★☆☆)"
   ]
  },
  {
   "cell_type": "raw",
   "metadata": {},
   "source": [
    "np.sqrt(-1) == np.emath.sqrt(-1)"
   ]
  },
  {
   "cell_type": "code",
   "execution_count": 41,
   "metadata": {},
   "outputs": [
    {
     "name": "stderr",
     "output_type": "stream",
     "text": [
      "/tmp/ipykernel_2572/889103864.py:2: RuntimeWarning: invalid value encountered in sqrt\n",
      "  np.sqrt(-1) == np.emath.sqrt(-1)\n"
     ]
    },
    {
     "data": {
      "text/plain": [
       "False"
      ]
     },
     "execution_count": 41,
     "metadata": {},
     "output_type": "execute_result"
    }
   ],
   "source": [
    "# This will result in False. np.sqrt(-1) will produce a RuntimeWarning due to taking the square root of a negative number, and it will return nan. np.emath.sqrt(-1) will return the complex number 1j, representing the square root of -1.\n",
    "np.sqrt(-1) == np.emath.sqrt(-1)"
   ]
  },
  {
   "cell_type": "markdown",
   "metadata": {},
   "source": [
    "### 33. How to get the dates of yesterday, today and tomorrow? (★☆☆)"
   ]
  },
  {
   "cell_type": "code",
   "execution_count": 53,
   "metadata": {},
   "outputs": [
    {
     "name": "stdout",
     "output_type": "stream",
     "text": [
      "Yesterday: 2024-02-11\n",
      "Today: 2024-02-12\n",
      "Tomorrow: 2024-02-13\n"
     ]
    }
   ],
   "source": [
    "from datetime import datetime, timedelta\n",
    "\n",
    "# Get today's date\n",
    "today = np.datetime64('today')\n",
    "\n",
    "# Calculate yesterday and tomorrow\n",
    "yesterday = today - np.timedelta64(1, 'D')\n",
    "tomorrow = today + np.timedelta64(1, 'D')\n",
    "\n",
    "print(\"Yesterday:\", yesterday)\n",
    "print(\"Today:\", today)\n",
    "print(\"Tomorrow:\", tomorrow)"
   ]
  },
  {
   "cell_type": "markdown",
   "metadata": {},
   "source": [
    "### 34. How to get all the dates corresponding to the month of July 2016? (★★☆)"
   ]
  },
  {
   "cell_type": "code",
   "execution_count": 54,
   "metadata": {},
   "outputs": [
    {
     "name": "stdout",
     "output_type": "stream",
     "text": [
      "Dates in July 2016:\n",
      "2016-07-01\n",
      "2016-07-02\n",
      "2016-07-03\n",
      "2016-07-04\n",
      "2016-07-05\n",
      "2016-07-06\n",
      "2016-07-07\n",
      "2016-07-08\n",
      "2016-07-09\n",
      "2016-07-10\n",
      "2016-07-11\n",
      "2016-07-12\n",
      "2016-07-13\n",
      "2016-07-14\n",
      "2016-07-15\n",
      "2016-07-16\n",
      "2016-07-17\n",
      "2016-07-18\n",
      "2016-07-19\n",
      "2016-07-20\n",
      "2016-07-21\n",
      "2016-07-22\n",
      "2016-07-23\n",
      "2016-07-24\n",
      "2016-07-25\n",
      "2016-07-26\n",
      "2016-07-27\n",
      "2016-07-28\n",
      "2016-07-29\n",
      "2016-07-30\n",
      "2016-07-31\n"
     ]
    }
   ],
   "source": [
    "import numpy as np\n",
    "\n",
    "# Define the start and end dates for July 2016\n",
    "start_date = np.datetime64('2016-07-01')\n",
    "end_date = np.datetime64('2016-08-01')\n",
    "\n",
    "# Generate all the dates for July 2016\n",
    "july_dates = np.arange(start_date, end_date, dtype='datetime64[D]')\n",
    "\n",
    "print(\"Dates in July 2016:\")\n",
    "for date in july_dates:\n",
    "    print(date)"
   ]
  },
  {
   "cell_type": "markdown",
   "metadata": {},
   "source": [
    "### 35. How to compute ((A+B)*(-A/2)) in place (without copy)? (★★☆)"
   ]
  },
  {
   "cell_type": "code",
   "execution_count": 51,
   "metadata": {},
   "outputs": [
    {
     "name": "stdout",
     "output_type": "stream",
     "text": [
      "Result: [[-0.35419635 -0.91942165 -0.07019667 -0.38398421 -0.15529713]\n",
      " [-0.43778619 -0.22313186 -0.2910285  -0.010164   -0.31000721]\n",
      " [-0.26037351 -0.00877425 -0.0647907  -0.16990598 -0.08117934]\n",
      " [-0.71372617 -0.51835062 -0.02754074 -0.26797715 -0.1596201 ]\n",
      " [-0.67002829 -0.35168367 -0.36913702 -0.28741146 -0.72880031]]\n"
     ]
    }
   ],
   "source": [
    "A = np.random.random((5, 5))\n",
    "B = np.random.random((5, 5))\n",
    "\n",
    "np.add(A, B, out=A)\n",
    "np.negative(A, out=A)\n",
    "np.divide(A, 2, out=A)\n",
    "np.multiply(A, B, out=A)\n",
    "\n",
    "print(\"Result:\", A)"
   ]
  },
  {
   "cell_type": "markdown",
   "metadata": {},
   "source": [
    "### 36. Extract the integer part of a random array of positive numbers using 4 different methods (★★☆)"
   ]
  },
  {
   "cell_type": "code",
   "execution_count": 50,
   "metadata": {},
   "outputs": [
    {
     "name": "stdout",
     "output_type": "stream",
     "text": [
      "Method 1 (astype): [[5 2 8 7 6]\n",
      " [4 5 2 1 2]\n",
      " [1 8 5 6 3]\n",
      " [5 3 6 7 7]\n",
      " [3 0 6 9 3]]\n",
      "Method 2 (trunc): [[5. 2. 8. 7. 6.]\n",
      " [4. 5. 2. 1. 2.]\n",
      " [1. 8. 5. 6. 3.]\n",
      " [5. 3. 6. 7. 7.]\n",
      " [3. 0. 6. 9. 3.]]\n",
      "Method 3 (floor): [[5. 2. 8. 7. 6.]\n",
      " [4. 5. 2. 1. 2.]\n",
      " [1. 8. 5. 6. 3.]\n",
      " [5. 3. 6. 7. 7.]\n",
      " [3. 0. 6. 9. 3.]]\n",
      "Method 4 (ceil): [[5. 2. 8. 7. 6.]\n",
      " [4. 5. 2. 1. 2.]\n",
      " [1. 8. 5. 6. 3.]\n",
      " [5. 3. 6. 7. 7.]\n",
      " [3. 0. 6. 9. 3.]]\n"
     ]
    }
   ],
   "source": [
    "random_array = np.random.random((5, 5)) * 10  # Generating random positive numbers\n",
    "integer_part_method1 = random_array.astype(int)\n",
    "integer_part_method2 = np.trunc(random_array)\n",
    "integer_part_method3 = np.floor(random_array)\n",
    "integer_part_method4 = np.ceil(random_array) - 1\n",
    "\n",
    "print(\"Method 1 (astype):\", integer_part_method1)\n",
    "print(\"Method 2 (trunc):\", integer_part_method2)\n",
    "print(\"Method 3 (floor):\", integer_part_method3)\n",
    "print(\"Method 4 (ceil):\", integer_part_method4)"
   ]
  },
  {
   "cell_type": "markdown",
   "metadata": {},
   "source": [
    "### 37. Create a 5x5 matrix with row values ranging from 0 to 4 (★★☆)"
   ]
  },
  {
   "cell_type": "code",
   "execution_count": 48,
   "metadata": {},
   "outputs": [
    {
     "name": "stdout",
     "output_type": "stream",
     "text": [
      "[[0. 1. 2. 3. 4.]\n",
      " [0. 1. 2. 3. 4.]\n",
      " [0. 1. 2. 3. 4.]\n",
      " [0. 1. 2. 3. 4.]\n",
      " [0. 1. 2. 3. 4.]]\n"
     ]
    }
   ],
   "source": [
    "matrix = np.zeros((5, 5))\n",
    "matrix += np.arange(5)\n",
    "print(matrix)"
   ]
  },
  {
   "cell_type": "markdown",
   "metadata": {},
   "source": [
    "### 38. Consider a generator function that generates 10 integers and use it to build an array (★☆☆)"
   ]
  },
  {
   "cell_type": "code",
   "execution_count": 47,
   "metadata": {},
   "outputs": [
    {
     "name": "stdout",
     "output_type": "stream",
     "text": [
      "[0 1 2 3 4 5 6 7 8 9]\n"
     ]
    }
   ],
   "source": [
    "def generator_function():\n",
    "    for i in range(10):\n",
    "        yield i\n",
    "\n",
    "array = np.fromiter(generator_function(), dtype=int)\n",
    "print(array)"
   ]
  },
  {
   "cell_type": "markdown",
   "metadata": {},
   "source": [
    "### 39. Create a vector of size 10 with values ranging from 0 to 1, both excluded (★★☆)"
   ]
  },
  {
   "cell_type": "code",
   "execution_count": 46,
   "metadata": {},
   "outputs": [
    {
     "name": "stdout",
     "output_type": "stream",
     "text": [
      "[0.09090909 0.18181818 0.27272727 0.36363636 0.45454545 0.54545455\n",
      " 0.63636364 0.72727273 0.81818182 0.90909091]\n"
     ]
    }
   ],
   "source": [
    "vector = np.linspace(0, 1, 12)[1:-1]\n",
    "print(vector)"
   ]
  },
  {
   "cell_type": "markdown",
   "metadata": {},
   "source": [
    "### 40. Create a random vector of size 10 and sort it (★★☆)"
   ]
  },
  {
   "cell_type": "code",
   "execution_count": 45,
   "metadata": {},
   "outputs": [
    {
     "name": "stdout",
     "output_type": "stream",
     "text": [
      "[0.08141669 0.1628497  0.21779258 0.23508328 0.24111264 0.25059294\n",
      " 0.32213795 0.43780131 0.44969431 0.9397223 ]\n"
     ]
    }
   ],
   "source": [
    "random_vector = np.random.random(10)\n",
    "sorted_vector = np.sort(random_vector)\n",
    "print(sorted_vector)"
   ]
  },
  {
   "cell_type": "markdown",
   "metadata": {},
   "source": [
    "### 41. How to sum a small array faster than np.sum? (★★☆)"
   ]
  },
  {
   "cell_type": "raw",
   "metadata": {},
   "source": [
    "For a small array, using the built-in sum() function in Python can be faster than np.sum(). \n",
    "For larger arrays, np.sum() is generally faster due to its optimized implementation."
   ]
  },
  {
   "cell_type": "markdown",
   "metadata": {},
   "source": [
    "### 42. Consider two random array A and B, check if they are equal (★★☆)"
   ]
  },
  {
   "cell_type": "code",
   "execution_count": 44,
   "metadata": {},
   "outputs": [
    {
     "name": "stdout",
     "output_type": "stream",
     "text": [
      "Are A and B equal? False\n"
     ]
    }
   ],
   "source": [
    "A = np.random.random((5, 5))\n",
    "B = np.random.random((5, 5))\n",
    "\n",
    "are_equal = np.array_equal(A, B)\n",
    "print(\"Are A and B equal?\", are_equal)"
   ]
  },
  {
   "cell_type": "markdown",
   "metadata": {},
   "source": [
    "### 43. Make an array immutable (read-only) (★★☆)"
   ]
  },
  {
   "cell_type": "code",
   "execution_count": 43,
   "metadata": {},
   "outputs": [],
   "source": [
    "array = np.zeros(10)\n",
    "array.flags.writeable = False"
   ]
  },
  {
   "cell_type": "markdown",
   "metadata": {},
   "source": [
    "### 44. Consider a random 10x2 matrix representing cartesian coordinates, convert them to polar coordinates (★★☆)"
   ]
  },
  {
   "cell_type": "code",
   "execution_count": 42,
   "metadata": {},
   "outputs": [
    {
     "name": "stdout",
     "output_type": "stream",
     "text": [
      "Polar Coordinates: [[0.55433022 1.4769635 ]\n",
      " [0.76195549 0.98951571]\n",
      " [0.48079163 1.11363463]\n",
      " [0.63632574 0.36595378]\n",
      " [0.94375262 0.27466835]\n",
      " [0.707707   0.94336611]\n",
      " [0.38318069 0.49081616]\n",
      " [0.73243687 0.75470722]\n",
      " [0.75978078 0.02308093]\n",
      " [0.82452211 0.20322421]]\n"
     ]
    }
   ],
   "source": [
    "cartesian_coordinates = np.random.random((10, 2))\n",
    "x, y = cartesian_coordinates[:, 0], cartesian_coordinates[:, 1]\n",
    "r = np.linalg.norm(cartesian_coordinates, axis=1)\n",
    "theta = np.arctan2(y, x)\n",
    "\n",
    "polar_coordinates = np.column_stack((r, theta))\n",
    "print(\"Polar Coordinates:\", polar_coordinates)"
   ]
  },
  {
   "cell_type": "markdown",
   "metadata": {},
   "source": [
    "### 45. Create random vector of size 10 and replace the maximum value by 0 (★★☆)"
   ]
  },
  {
   "cell_type": "code",
   "execution_count": 55,
   "metadata": {},
   "outputs": [
    {
     "name": "stdout",
     "output_type": "stream",
     "text": [
      "[0.         0.26514674 0.38783636 0.51520234 0.41091222 0.40120733\n",
      " 0.74593409 0.59954823 0.22315985 0.3057498 ]\n"
     ]
    }
   ],
   "source": [
    "random_vector = np.random.random(10)\n",
    "\n",
    "max_index = np.argmax(random_vector)\n",
    "\n",
    "# Replace the maximum value with 0\n",
    "random_vector[max_index] = 0\n",
    "\n",
    "print(random_vector)"
   ]
  },
  {
   "cell_type": "markdown",
   "metadata": {},
   "source": [
    "### 46. Create a structured array with x and y coordinates covering the [0,1]x[0,1] area (★★☆)"
   ]
  },
  {
   "cell_type": "code",
   "execution_count": 56,
   "metadata": {},
   "outputs": [
    {
     "name": "stdout",
     "output_type": "stream",
     "text": [
      "[[(0.  , 0.  ) (0.25, 0.  ) (0.5 , 0.  ) (0.75, 0.  ) (1.  , 0.  )]\n",
      " [(0.  , 0.25) (0.25, 0.25) (0.5 , 0.25) (0.75, 0.25) (1.  , 0.25)]\n",
      " [(0.  , 0.5 ) (0.25, 0.5 ) (0.5 , 0.5 ) (0.75, 0.5 ) (1.  , 0.5 )]\n",
      " [(0.  , 0.75) (0.25, 0.75) (0.5 , 0.75) (0.75, 0.75) (1.  , 0.75)]\n",
      " [(0.  , 1.  ) (0.25, 1.  ) (0.5 , 1.  ) (0.75, 1.  ) (1.  , 1.  )]]\n"
     ]
    }
   ],
   "source": [
    "# Create structured array with x and y coordinates\n",
    "x = np.linspace(0, 1, 5)\n",
    "y = np.linspace(0, 1, 5)\n",
    "X, Y = np.meshgrid(x, y)\n",
    "structured_array = np.zeros((5, 5), dtype=[('x', float), ('y', float)])\n",
    "structured_array['x'] = X\n",
    "structured_array['y'] = Y\n",
    "\n",
    "print(structured_array)"
   ]
  },
  {
   "cell_type": "markdown",
   "metadata": {},
   "source": [
    "### 47. Given two arrays, X and Y, construct the Cauchy matrix C (Cij =1/(xi - yj)) (★★☆)"
   ]
  },
  {
   "cell_type": "code",
   "execution_count": 57,
   "metadata": {},
   "outputs": [
    {
     "name": "stdout",
     "output_type": "stream",
     "text": [
      "Cauchy matrix:\n",
      "[[-0.33333333 -0.25       -0.2       ]\n",
      " [-0.5        -0.33333333 -0.25      ]\n",
      " [-1.         -0.5        -0.33333333]]\n"
     ]
    }
   ],
   "source": [
    "# Example arrays X and Y\n",
    "X = np.array([1, 2, 3])\n",
    "Y = np.array([4, 5, 6])\n",
    "\n",
    "# Construct Cauchy matrix\n",
    "C = 1 / (X[:, None] - Y)\n",
    "\n",
    "print(\"Cauchy matrix:\")\n",
    "print(C)\n"
   ]
  },
  {
   "cell_type": "markdown",
   "metadata": {},
   "source": [
    "### 48. Print the minimum and maximum representable value for each numpy scalar type (★★☆)"
   ]
  },
  {
   "cell_type": "raw",
   "metadata": {},
   "source": [
    "for dtype in np.ScalarType:\n",
    "    # Skip boolean types\n",
    "    if np.issubdtype(dtype, np.integer):\n",
    "        continue\n",
    "    \n",
    "    # Get the minimum and maximum representable values\n",
    "    if np.issubdtype(dtype, np.integer):\n",
    "        min_value = np.iinfo(dtype).min\n",
    "        max_value = np.iinfo(dtype).max\n",
    "    else:\n",
    "        min_value = np.finfo(dtype).min\n",
    "        max_value = np.finfo(dtype).max\n",
    "    \n",
    "    # Print the information\n",
    "    print(f\"Scalar Type: {dtype}, Minimum Value: {min_value}, Maximum Value: {max_value}\")"
   ]
  },
  {
   "cell_type": "markdown",
   "metadata": {},
   "source": [
    "### 49. How to print all the values of an array? (★★☆)"
   ]
  },
  {
   "cell_type": "code",
   "execution_count": 59,
   "metadata": {},
   "outputs": [
    {
     "name": "stdout",
     "output_type": "stream",
     "text": [
      "[ 0  1  2  3  4  5  6  7  8  9 10 11 12 13 14 15 16 17 18 19 20 21 22 23\n",
      " 24 25 26 27 28 29 30 31 32 33 34 35 36 37 38 39 40 41 42 43 44 45 46 47\n",
      " 48 49 50 51 52 53 54 55 56 57 58 59 60 61 62 63 64 65 66 67 68 69 70 71\n",
      " 72 73 74 75 76 77 78 79 80 81 82 83 84 85 86 87 88 89 90 91 92 93 94 95\n",
      " 96 97 98 99]\n"
     ]
    }
   ],
   "source": [
    "# Create an array\n",
    "arr = np.arange(100)\n",
    "\n",
    "# Set print options to print all values\n",
    "np.set_printoptions(threshold=np.inf)\n",
    "\n",
    "# Print the array\n",
    "print(arr)\n"
   ]
  },
  {
   "cell_type": "markdown",
   "metadata": {},
   "source": [
    "### 50. How to find the closest value (to a given scalar) in a vector? (★★☆)"
   ]
  },
  {
   "cell_type": "code",
   "execution_count": 60,
   "metadata": {},
   "outputs": [
    {
     "name": "stdout",
     "output_type": "stream",
     "text": [
      "Closest value to 2.5 is 2\n"
     ]
    }
   ],
   "source": [
    "vector = np.array([1, 2, 3, 4, 5])\n",
    "\n",
    "# Given scalar\n",
    "scalar = 2.5\n",
    "\n",
    "# Find the index of the closest value to the scalar\n",
    "closest_index = np.abs(vector - scalar).argmin()\n",
    "\n",
    "# Closest value\n",
    "closest_value = vector[closest_index]\n",
    "\n",
    "print(\"Closest value to\", scalar, \"is\", closest_value)"
   ]
  },
  {
   "cell_type": "markdown",
   "metadata": {},
   "source": [
    "### 51. Create a structured array representing a position (x,y) and a color (r,g,b) (★★☆)"
   ]
  },
  {
   "cell_type": "code",
   "execution_count": 3,
   "metadata": {},
   "outputs": [
    {
     "name": "stdout",
     "output_type": "stream",
     "text": [
      "[((1., 2.), (255,   0, 0)) ((3., 4.), (  0, 255, 0))]\n"
     ]
    }
   ],
   "source": [
    "dtype_pos = [('x', float), ('y', float)]\n",
    "dtype_color = [('r', int), ('g', int), ('b', int)]\n",
    "\n",
    "# Create structured array\n",
    "positions = np.array([(1.0, 2.0), (3.0, 4.0)], dtype=dtype_pos)\n",
    "colors = np.array([(255, 0, 0), (0, 255, 0)], dtype=dtype_color)\n",
    "\n",
    "# Combine position and color arrays\n",
    "structured_array = np.empty(2, dtype=[('position', dtype_pos), ('color', dtype_color)])\n",
    "structured_array['position'] = positions\n",
    "structured_array['color'] = colors\n",
    "\n",
    "print(structured_array)"
   ]
  },
  {
   "cell_type": "markdown",
   "metadata": {},
   "source": [
    "### 52. Consider a random vector with shape (100,2) representing coordinates, find point by point distances (★★☆)"
   ]
  },
  {
   "cell_type": "code",
   "execution_count": 4,
   "metadata": {},
   "outputs": [
    {
     "name": "stdout",
     "output_type": "stream",
     "text": [
      "[[0.         0.54528944 0.39878734 ... 0.30384387 0.30748942 0.07683385]\n",
      " [0.54528944 0.         0.26049073 ... 0.30676453 0.47840183 0.4856562 ]\n",
      " [0.39878734 0.26049073 0.         ... 0.09494956 0.4933461  0.37051772]\n",
      " ...\n",
      " [0.30384387 0.30676453 0.09494956 ... 0.         0.42388996 0.27800201]\n",
      " [0.30748942 0.47840183 0.4933461  ... 0.42388996 0.         0.23965853]\n",
      " [0.07683385 0.4856562  0.37051772 ... 0.27800201 0.23965853 0.        ]]\n"
     ]
    }
   ],
   "source": [
    "# Generate random vector with shape (100,2)\n",
    "vector = np.random.rand(100, 2)\n",
    "\n",
    "# Calculate point by point distances\n",
    "distances = np.sqrt(np.sum((vector - vector[:, np.newaxis])**2, axis=-1))\n",
    "\n",
    "print(distances)"
   ]
  },
  {
   "cell_type": "markdown",
   "metadata": {},
   "source": [
    "### 53. How to convert a float (32 bits) array into an integer (32 bits) in place?"
   ]
  },
  {
   "cell_type": "code",
   "execution_count": 5,
   "metadata": {},
   "outputs": [
    {
     "name": "stdout",
     "output_type": "stream",
     "text": [
      "[1.e-45 3.e-45 4.e-45]\n"
     ]
    }
   ],
   "source": [
    "float_array = np.array([1.5, 2.7, 3.9], dtype=np.float32)\n",
    "\n",
    "# Convert to integer in place\n",
    "float_array.view(dtype=np.int32)[:] = float_array\n",
    "\n",
    "print(float_array)"
   ]
  },
  {
   "cell_type": "markdown",
   "metadata": {},
   "source": [
    "### 54. How to read the following file? (★★☆)"
   ]
  },
  {
   "cell_type": "raw",
   "metadata": {},
   "source": [
    "1, 2, 3, 4, 5\n",
    "6,  ,  , 7, 8\n",
    " ,  , 9,10,11"
   ]
  },
  {
   "cell_type": "code",
   "execution_count": 13,
   "metadata": {},
   "outputs": [
    {
     "name": "stdout",
     "output_type": "stream",
     "text": [
      "[[ 1.  2.  3.  4.  5.]\n",
      " [ 6. nan nan  7.  8.]\n",
      " [nan nan  9. 10. 11.]]\n"
     ]
    }
   ],
   "source": [
    "# Read the file, specifying the delimiter and handling missing values\n",
    "data = np.genfromtxt('file.txt', delimiter=',', filling_values=np.nan)\n",
    "\n",
    "print(data)"
   ]
  },
  {
   "cell_type": "markdown",
   "metadata": {},
   "source": [
    "### 55. What is the equivalent of enumerate for numpy arrays? (★★☆)"
   ]
  },
  {
   "cell_type": "code",
   "execution_count": 12,
   "metadata": {},
   "outputs": [
    {
     "name": "stdout",
     "output_type": "stream",
     "text": [
      "(0, 0) 1\n",
      "(0, 1) 2\n",
      "(1, 0) 3\n",
      "(1, 1) 4\n"
     ]
    }
   ],
   "source": [
    "arr = np.array([[1, 2], [3, 4]])\n",
    "\n",
    "# Enumerate over the numpy array\n",
    "for index, value in np.ndenumerate(arr):\n",
    "    print(index, value)"
   ]
  },
  {
   "cell_type": "markdown",
   "metadata": {},
   "source": [
    "### 56. Generate a generic 2D Gaussian-like array (★★☆)"
   ]
  },
  {
   "cell_type": "code",
   "execution_count": 11,
   "metadata": {},
   "outputs": [
    {
     "name": "stdout",
     "output_type": "stream",
     "text": [
      "[[0.01831564 0.082085   0.13533528 0.082085   0.01831564]\n",
      " [0.082085   0.36787944 0.60653066 0.36787944 0.082085  ]\n",
      " [0.13533528 0.60653066 1.         0.60653066 0.13533528]\n",
      " [0.082085   0.36787944 0.60653066 0.36787944 0.082085  ]\n",
      " [0.01831564 0.082085   0.13533528 0.082085   0.01831564]]\n"
     ]
    }
   ],
   "source": [
    "def gaussian_2d(shape, sigma):\n",
    "    m, n = [(s-1.)/2. for s in shape]\n",
    "    y, x = np.ogrid[-m:m+1,-n:n+1]\n",
    "    h = np.exp(-(x*x + y*y) / (2.*sigma*sigma))\n",
    "    h[h < np.finfo(h.dtype).eps*h.max()] = 0\n",
    "    return h\n",
    "\n",
    "# Generate Gaussian-like array\n",
    "gaussian_array = gaussian_2d((5, 5), sigma=1.0)\n",
    "\n",
    "print(gaussian_array)"
   ]
  },
  {
   "cell_type": "markdown",
   "metadata": {},
   "source": [
    "### 57. How to randomly place p elements in a 2D array? (★★☆)"
   ]
  },
  {
   "cell_type": "code",
   "execution_count": 10,
   "metadata": {},
   "outputs": [
    {
     "name": "stdout",
     "output_type": "stream",
     "text": [
      "[[0. 0. 0. 0. 0.]\n",
      " [0. 0. 0. 0. 0.]\n",
      " [0. 0. 0. 0. 0.]\n",
      " [1. 0. 1. 0. 1.]\n",
      " [0. 0. 0. 0. 0.]]\n"
     ]
    }
   ],
   "source": [
    "def random_placement_2d_array(shape, p):\n",
    "    arr = np.zeros(shape)\n",
    "    indices = np.random.choice(np.prod(shape), p, replace=False)\n",
    "    arr.flat[indices] = 1\n",
    "    return arr\n",
    "\n",
    "# Generate 2D array with randomly placed elements\n",
    "result = random_placement_2d_array((5, 5), 3)\n",
    "\n",
    "print(result)"
   ]
  },
  {
   "cell_type": "markdown",
   "metadata": {},
   "source": [
    "### 58. Subtract the mean of each row of a matrix (★★☆)"
   ]
  },
  {
   "cell_type": "code",
   "execution_count": 9,
   "metadata": {},
   "outputs": [
    {
     "name": "stdout",
     "output_type": "stream",
     "text": [
      "[[-1.  0.  1.]\n",
      " [-1.  0.  1.]\n",
      " [-1.  0.  1.]]\n"
     ]
    }
   ],
   "source": [
    "matrix = np.array([[1, 2, 3], [4, 5, 6], [7, 8, 9]])\n",
    "\n",
    "# Subtract the mean of each row\n",
    "result = matrix - matrix.mean(axis=1, keepdims=True)\n",
    "\n",
    "print(result)"
   ]
  },
  {
   "cell_type": "markdown",
   "metadata": {},
   "source": [
    "### 59. How to sort an array by the nth column? (★★☆)"
   ]
  },
  {
   "cell_type": "code",
   "execution_count": 8,
   "metadata": {},
   "outputs": [
    {
     "name": "stdout",
     "output_type": "stream",
     "text": [
      "[[3 2]\n",
      " [2 3]\n",
      " [1 4]]\n"
     ]
    }
   ],
   "source": [
    "array = np.array([[1, 4], [3, 2], [2, 3]])\n",
    "\n",
    "# Sort array by the second column\n",
    "sorted_array = array[array[:, 1].argsort()]\n",
    "\n",
    "print(sorted_array)"
   ]
  },
  {
   "cell_type": "markdown",
   "metadata": {},
   "source": [
    "### 60. How to tell if a given 2D array has null columns? (★★☆)"
   ]
  },
  {
   "cell_type": "code",
   "execution_count": 7,
   "metadata": {},
   "outputs": [
    {
     "name": "stdout",
     "output_type": "stream",
     "text": [
      "True\n"
     ]
    }
   ],
   "source": [
    "array = np.array([[1, 0, 3], [0, 0, 0], [4, 0, 6]])\n",
    "\n",
    "# Check if any column has all zeros\n",
    "has_null_columns = np.all(array == 0, axis=0).any()\n",
    "\n",
    "print(has_null_columns)"
   ]
  },
  {
   "cell_type": "markdown",
   "metadata": {},
   "source": [
    "### 61. Find the nearest value from a given value in an array (★★☆)"
   ]
  },
  {
   "cell_type": "code",
   "execution_count": 14,
   "metadata": {},
   "outputs": [
    {
     "name": "stdout",
     "output_type": "stream",
     "text": [
      "5\n"
     ]
    }
   ],
   "source": [
    "array = np.array([1, 3, 5, 7, 9])\n",
    "\n",
    "# Given value\n",
    "value = 6\n",
    "\n",
    "# Find the nearest value\n",
    "nearest_value = array[np.abs(array - value).argmin()]\n",
    "\n",
    "print(nearest_value)"
   ]
  },
  {
   "cell_type": "markdown",
   "metadata": {},
   "source": [
    "### 62. Considering two arrays with shape (1,3) and (3,1), how to compute their sum using an iterator? (★★☆)"
   ]
  },
  {
   "cell_type": "code",
   "execution_count": 15,
   "metadata": {},
   "outputs": [
    {
     "name": "stdout",
     "output_type": "stream",
     "text": [
      "63\n"
     ]
    }
   ],
   "source": [
    "arr1 = np.array([[1, 2, 3]])\n",
    "arr2 = np.array([[4], [5], [6]])\n",
    "\n",
    "# Initialize iterator\n",
    "iterator = np.nditer([arr1, arr2])\n",
    "\n",
    "# Compute sum using iterator\n",
    "sum_result = 0\n",
    "for x, y in iterator:\n",
    "    sum_result += x + y\n",
    "\n",
    "print(sum_result)"
   ]
  },
  {
   "cell_type": "markdown",
   "metadata": {},
   "source": [
    "### 63. Create an array class that has a name attribute (★★☆)"
   ]
  },
  {
   "cell_type": "code",
   "execution_count": 16,
   "metadata": {},
   "outputs": [
    {
     "name": "stdout",
     "output_type": "stream",
     "text": [
      "[1 2 3]\n",
      "Example Array\n"
     ]
    }
   ],
   "source": [
    "class NamedArray(np.ndarray):\n",
    "    def __new__(cls, array, name=''):\n",
    "        obj = np.asarray(array).view(cls)\n",
    "        obj.name = name\n",
    "        return obj\n",
    "\n",
    "    def __array_finalize__(self, obj):\n",
    "        if obj is None:\n",
    "            return\n",
    "        self.name = getattr(obj, 'name', '')\n",
    "\n",
    "# Create an array with a name attribute\n",
    "arr = NamedArray([1, 2, 3], name='Example Array')\n",
    "\n",
    "print(arr)\n",
    "print(arr.name)"
   ]
  },
  {
   "cell_type": "markdown",
   "metadata": {},
   "source": [
    "### 64. Consider a given vector, how to add 1 to each element indexed by a second vector (be careful with repeated indices)? (★★★)"
   ]
  },
  {
   "cell_type": "code",
   "execution_count": 17,
   "metadata": {},
   "outputs": [
    {
     "name": "stdout",
     "output_type": "stream",
     "text": [
      "[2 4 4 6 5]\n"
     ]
    }
   ],
   "source": [
    "vector = np.array([1, 2, 3, 4, 5])\n",
    "\n",
    "# Given index vector\n",
    "index_vector = np.array([0, 1, 1, 2, 3, 3])\n",
    "\n",
    "# Add 1 to elements indexed by index vector, handling repeated indices\n",
    "np.add.at(vector, index_vector, 1)\n",
    "\n",
    "print(vector)"
   ]
  },
  {
   "cell_type": "markdown",
   "metadata": {},
   "source": [
    "### 65. How to accumulate elements of a vector (X) to an array (F) based on an index list (I)? (★★★)"
   ]
  },
  {
   "cell_type": "code",
   "execution_count": 18,
   "metadata": {},
   "outputs": [
    {
     "name": "stdout",
     "output_type": "stream",
     "text": [
      "[0 1 4 7 3]\n"
     ]
    }
   ],
   "source": [
    "X = np.array([1, 2, 3, 4, 5])\n",
    "\n",
    "# Given index list I\n",
    "I = np.array([1, 3, 4, 2, 3])\n",
    "\n",
    "# Initialize array F with zeros\n",
    "F = np.zeros_like(X)\n",
    "\n",
    "# Accumulate elements of X to F based on index list I\n",
    "np.add.at(F, I, X)\n",
    "\n",
    "print(F)"
   ]
  },
  {
   "cell_type": "markdown",
   "metadata": {},
   "source": [
    "### 66. Considering a (w,h,3) image of (dtype=ubyte), compute the number of unique colors (★★☆)"
   ]
  },
  {
   "cell_type": "code",
   "execution_count": 21,
   "metadata": {},
   "outputs": [
    {
     "name": "stdout",
     "output_type": "stream",
     "text": [
      "1\n"
     ]
    }
   ],
   "source": [
    "img = np.array([3,4,5,6])\n",
    "unique_colors = len(np.unique(img.reshape(-1, 4), axis=0))\n",
    "\n",
    "print(unique_colors)"
   ]
  },
  {
   "cell_type": "markdown",
   "metadata": {},
   "source": [
    "### 67. Considering a four dimensions array, how to get sum over the last two axis at once? (★★★)"
   ]
  },
  {
   "cell_type": "code",
   "execution_count": 22,
   "metadata": {},
   "outputs": [
    {
     "name": "stdout",
     "output_type": "stream",
     "text": [
      "[[ 94  79 107]\n",
      " [100  93  79]]\n"
     ]
    }
   ],
   "source": [
    "arr = np.random.randint(0, 10, size=(2, 3, 4, 5))\n",
    "\n",
    "# Compute sum over the last two axes\n",
    "sum_last_two_axes = arr.sum(axis=(-2, -1))\n",
    "\n",
    "print(sum_last_two_axes)"
   ]
  },
  {
   "cell_type": "markdown",
   "metadata": {},
   "source": [
    "### 68. Considering a one-dimensional vector D, how to compute means of subsets of D using a vector S of same size describing subset indices? (★★★)"
   ]
  },
  {
   "cell_type": "code",
   "execution_count": 23,
   "metadata": {},
   "outputs": [
    {
     "name": "stdout",
     "output_type": "stream",
     "text": [
      "[3.33333333 3.66666667]\n"
     ]
    }
   ],
   "source": [
    "D = np.array([1, 2, 3, 4, 5, 6])\n",
    "\n",
    "# Given vector S describing subset indices\n",
    "S = np.array([0, 1, 0, 1, 1, 0])\n",
    "\n",
    "# Compute means of subsets of D using S\n",
    "means = np.bincount(S, weights=D) / np.bincount(S)\n",
    "\n",
    "print(means)"
   ]
  },
  {
   "cell_type": "markdown",
   "metadata": {},
   "source": [
    "### 69. How to get the diagonal of a dot product? (★★★)"
   ]
  },
  {
   "cell_type": "code",
   "execution_count": 24,
   "metadata": {},
   "outputs": [
    {
     "name": "stdout",
     "output_type": "stream",
     "text": [
      "[48 31 39]\n"
     ]
    }
   ],
   "source": [
    "A = np.random.randint(0, 10, size=(3, 3))\n",
    "B = np.random.randint(0, 10, size=(3, 3))\n",
    "\n",
    "# Compute dot product\n",
    "dot_product = np.dot(A, B)\n",
    "\n",
    "# Get diagonal of dot product\n",
    "diagonal = np.diag(dot_product)\n",
    "\n",
    "print(diagonal)"
   ]
  },
  {
   "cell_type": "markdown",
   "metadata": {},
   "source": [
    "### 70. Consider the vector [1, 2, 3, 4, 5], how to build a new vector with 3 consecutive zeros interleaved between each value? (★★★)"
   ]
  },
  {
   "cell_type": "code",
   "execution_count": 25,
   "metadata": {},
   "outputs": [
    {
     "name": "stdout",
     "output_type": "stream",
     "text": [
      "[1. 0. 0. 0. 2. 0. 0. 0. 3. 0. 0. 0. 4. 0. 0. 0. 5.]\n"
     ]
    }
   ],
   "source": [
    "vector = np.array([1, 2, 3, 4, 5])\n",
    "\n",
    "# Build new vector with interleaved zeros\n",
    "new_vector = np.zeros(len(vector) + (len(vector) - 1) * 3)\n",
    "new_vector[::4] = vector\n",
    "\n",
    "print(new_vector)"
   ]
  },
  {
   "cell_type": "markdown",
   "metadata": {},
   "source": [
    "### 71. Consider an array of dimension (5,5,3), how to mulitply it by an array with dimensions (5,5)? (★★★)"
   ]
  },
  {
   "cell_type": "code",
   "execution_count": 6,
   "metadata": {},
   "outputs": [
    {
     "name": "stdout",
     "output_type": "stream",
     "text": [
      "[[[4.64438076e-01 3.27152236e-02 7.45795498e-02]\n",
      "  [8.09302053e-04 1.02664155e-03 1.66642276e-03]\n",
      "  [5.95528662e-01 4.07421740e-01 5.30787089e-01]\n",
      "  [2.36499516e-01 1.88771088e-01 4.82563703e-02]\n",
      "  [6.11848724e-01 5.71137544e-01 3.58966953e-01]]\n",
      "\n",
      " [[2.14903162e-01 2.56671677e-02 1.64022398e-01]\n",
      "  [8.28922167e-02 5.87089363e-03 5.31127565e-02]\n",
      "  [2.21490735e-01 2.15676220e-01 4.27685052e-02]\n",
      "  [5.94115581e-02 2.18626867e-02 2.89073098e-01]\n",
      "  [3.94590069e-01 7.26097733e-02 4.69191340e-01]]\n",
      "\n",
      " [[1.41795274e-02 4.86758697e-03 1.42187132e-02]\n",
      "  [8.92477537e-01 3.80893885e-01 8.28530004e-01]\n",
      "  [4.60592147e-01 3.59045925e-02 7.08839749e-01]\n",
      "  [7.58179992e-02 6.40112931e-01 3.75714386e-02]\n",
      "  [3.97358041e-01 4.85563102e-01 1.10778668e-01]]\n",
      "\n",
      " [[3.93763442e-01 2.64155283e-01 9.06356313e-01]\n",
      "  [3.90589608e-01 5.85586146e-01 5.89536937e-01]\n",
      "  [3.89360558e-02 1.22459717e-02 7.95183679e-02]\n",
      "  [2.68810724e-01 4.18930549e-01 6.32146767e-02]\n",
      "  [3.78871605e-01 2.35181910e-01 2.39352228e-01]]\n",
      "\n",
      " [[4.19605462e-03 2.03480025e-01 1.25813684e-02]\n",
      "  [4.05003518e-02 2.28401332e-01 1.82635395e-01]\n",
      "  [1.14851203e-01 2.66034052e-02 2.43517924e-01]\n",
      "  [2.55679460e-01 2.90171778e-01 6.90210414e-02]\n",
      "  [6.50311057e-02 1.65074031e-01 1.66785047e-01]]]\n"
     ]
    }
   ],
   "source": [
    "arr1 = np.random.rand(5, 5, 3)\n",
    "arr2 = np.random.rand(5, 5)\n",
    "\n",
    "# Multiply arrays\n",
    "result = arr1 * arr2[:,:,None]\n",
    "\n",
    "print(result)"
   ]
  },
  {
   "cell_type": "markdown",
   "metadata": {},
   "source": [
    "### 72. How to swap two rows of an array? (★★★)"
   ]
  },
  {
   "cell_type": "code",
   "execution_count": 4,
   "metadata": {},
   "outputs": [
    {
     "name": "stdout",
     "output_type": "stream",
     "text": [
      "[[4 5 6]\n",
      " [1 2 3]\n",
      " [7 8 9]]\n"
     ]
    }
   ],
   "source": [
    "arr = np.array([[1, 2, 3], [4, 5, 6], [7, 8, 9]])\n",
    "\n",
    "# Swap rows 0 and 1\n",
    "arr[[0, 1]] = arr[[1, 0]]\n",
    "\n",
    "print(arr)"
   ]
  },
  {
   "cell_type": "markdown",
   "metadata": {},
   "source": [
    "### 73. Consider a set of 10 triplets describing 10 triangles (with shared vertices), find the set of unique line segments composing all the triangles (★★★)"
   ]
  },
  {
   "cell_type": "code",
   "execution_count": 7,
   "metadata": {},
   "outputs": [
    {
     "name": "stdout",
     "output_type": "stream",
     "text": [
      "[[ 6  8]\n",
      " [ 6 54]\n",
      " [ 8 29]\n",
      " [ 8 54]\n",
      " [ 8 76]\n",
      " [13 50]\n",
      " [13 58]\n",
      " [16 38]\n",
      " [16 67]\n",
      " [26 28]\n",
      " [26 74]\n",
      " [28 74]\n",
      " [29 76]\n",
      " [34 58]\n",
      " [34 92]\n",
      " [35 42]\n",
      " [35 93]\n",
      " [38 67]\n",
      " [40 75]\n",
      " [40 96]\n",
      " [42 93]\n",
      " [50 58]\n",
      " [50 61]\n",
      " [50 83]\n",
      " [58 92]\n",
      " [60 67]\n",
      " [60 88]\n",
      " [61 83]\n",
      " [67 88]\n",
      " [75 96]]\n"
     ]
    }
   ],
   "source": [
    "triplets = np.random.randint(0, 100, (10, 3))\n",
    "\n",
    "# Extract line segments from triplets\n",
    "lines = np.sort(triplets[:, [0, 1, 1, 2, 2, 0]].reshape(-1, 2), axis=1)\n",
    "unique_lines = np.unique(lines, axis=0)\n",
    "\n",
    "print(unique_lines)"
   ]
  },
  {
   "cell_type": "markdown",
   "metadata": {},
   "source": [
    "### 74. Given a sorted array C that corresponds to a bincount, how to produce an array A such that np.bincount(A) == C? (★★★)"
   ]
  },
  {
   "cell_type": "code",
   "execution_count": 8,
   "metadata": {},
   "outputs": [
    {
     "name": "stdout",
     "output_type": "stream",
     "text": [
      "[ 2  3  4  4  5  5  6  6  6  7  7  7  8  8  8  9  9  9  9 10 10 10 10 10\n",
      " 11 11 11 11 11 12 12 12 12 12 12]\n"
     ]
    }
   ],
   "source": [
    "C = np.array([0, 0, 1, 1, 2, 2, 3, 3, 3, 4, 5, 5, 6])\n",
    "\n",
    "# Create array A\n",
    "A = np.repeat(np.arange(len(C)), C)\n",
    "\n",
    "print(A)"
   ]
  },
  {
   "cell_type": "markdown",
   "metadata": {},
   "source": [
    "### 75. How to compute averages using a sliding window over an array? (★★★)"
   ]
  },
  {
   "cell_type": "code",
   "execution_count": 9,
   "metadata": {},
   "outputs": [
    {
     "name": "stdout",
     "output_type": "stream",
     "text": [
      "[2. 3. 4.]\n"
     ]
    }
   ],
   "source": [
    "arr = np.array([1, 2, 3, 4, 5])\n",
    "window_size = 3\n",
    "\n",
    "# Compute averages using a sliding window\n",
    "averages = np.convolve(arr, np.ones(window_size)/window_size, mode='valid')\n",
    "\n",
    "print(averages)"
   ]
  },
  {
   "cell_type": "markdown",
   "metadata": {},
   "source": [
    "### 76. Consider a one-dimensional array Z, build a two-dimensional array whose first row is (Z[0],Z[1],Z[2]) and each subsequent row is shifted by 1 (last row should be (Z[-3],Z[-2],Z[-1]) (★★★)"
   ]
  },
  {
   "cell_type": "code",
   "execution_count": 10,
   "metadata": {},
   "outputs": [
    {
     "name": "stdout",
     "output_type": "stream",
     "text": [
      "[[ 1  2  3]\n",
      " [ 2  3  4]\n",
      " [ 3  4  5]\n",
      " [ 4  5  6]\n",
      " [ 5  6  7]\n",
      " [ 6  7  8]\n",
      " [ 7  8  9]\n",
      " [ 8  9 10]\n",
      " [ 9 10 11]\n",
      " [10 11 12]]\n"
     ]
    }
   ],
   "source": [
    "Z = np.array([1, 2, 3, 4, 5, 6, 7, 8, 9, 10, 11, 12, 13, 14])\n",
    "\n",
    "# Build two-dimensional array\n",
    "result = np.lib.stride_tricks.sliding_window_view(Z, (3,))\n",
    "result = result[:-2]\n",
    "\n",
    "print(result)"
   ]
  },
  {
   "cell_type": "markdown",
   "metadata": {},
   "source": [
    "### 77. How to negate a boolean, or to change the sign of a float inplace? (★★★)"
   ]
  },
  {
   "cell_type": "code",
   "execution_count": 11,
   "metadata": {},
   "outputs": [
    {
     "name": "stdout",
     "output_type": "stream",
     "text": [
      "[False  True False]\n",
      "[-1.  2. -3.]\n"
     ]
    }
   ],
   "source": [
    "arr_bool = np.array([True, False, True])\n",
    "np.logical_not(arr_bool, out=arr_bool)\n",
    "\n",
    "# Change the sign of a float array\n",
    "arr_float = np.array([1.0, -2.0, 3.0])\n",
    "np.negative(arr_float, out=arr_float)\n",
    "\n",
    "print(arr_bool)\n",
    "print(arr_float)"
   ]
  },
  {
   "cell_type": "markdown",
   "metadata": {},
   "source": [
    "### 78. Consider 2 sets of points P0,P1 describing lines (2d) and a point p, how to compute distance from p to each line i (P0[i],P1[i])? (★★★)"
   ]
  },
  {
   "cell_type": "code",
   "execution_count": 12,
   "metadata": {},
   "outputs": [
    {
     "name": "stdout",
     "output_type": "stream",
     "text": [
      "[0.5 0.5 1.5]\n"
     ]
    }
   ],
   "source": [
    "P0 = np.array([[0, 0], [1, 1], [2, 2]])\n",
    "P1 = np.array([[1, 0], [2, 1], [3, 2]])\n",
    "p = np.array([1, 0.5])\n",
    "\n",
    "# Compute distance from p to each line segment\n",
    "numerator = np.abs((P1[:,1] - P0[:,1])*p[0] - (P1[:,0] - P0[:,0])*p[1] + P1[:,0]*P0[:,1] - P1[:,1]*P0[:,0])\n",
    "denominator = np.sqrt((P1[:,1] - P0[:,1])**2 + (P1[:,0] - P0[:,0])**2)\n",
    "distances = numerator / denominator\n",
    "\n",
    "print(distances)"
   ]
  },
  {
   "cell_type": "markdown",
   "metadata": {},
   "source": [
    "### 79. Consider 2 sets of points P0,P1 describing lines (2d) and a set of points P, how to compute distance from each point j (P[j]) to each line i (P0[i],P1[i])? (★★★)"
   ]
  },
  {
   "cell_type": "code",
   "execution_count": 13,
   "metadata": {},
   "outputs": [
    {
     "name": "stdout",
     "output_type": "stream",
     "text": [
      "[[0.5 0.5 1.5]\n",
      " [1.5 0.5 0.5]]\n"
     ]
    }
   ],
   "source": [
    "P0 = np.array([[0, 0], [1, 1], [2, 2]])\n",
    "P1 = np.array([[1, 0], [2, 1], [3, 2]])\n",
    "P = np.array([[1, 0.5], [2, 1.5]])\n",
    "\n",
    "# Compute distance from each point in P to each line segment\n",
    "numerator = np.abs((P1[:,1] - P0[:,1])*P[:,0,None] - (P1[:,0] - P0[:,0])*P[:,1,None] + P1[:,0]*P0[:,1] - P1[:,1]*P0[:,0])\n",
    "denominator = np.sqrt((P1[:,1] - P0[:,1])**2 + (P1[:,0] - P0[:,0])**2)\n",
    "distances = numerator / denominator\n",
    "\n",
    "print(distances)"
   ]
  },
  {
   "cell_type": "markdown",
   "metadata": {},
   "source": [
    "### 80. Consider an arbitrary array, write a function that extract a subpart with a fixed shape and centered on a given element (pad with a fill value when necessary) (★★★)"
   ]
  },
  {
   "cell_type": "code",
   "execution_count": 14,
   "metadata": {},
   "outputs": [
    {
     "name": "stdout",
     "output_type": "stream",
     "text": [
      "[[0 1 9]\n",
      " [8 7 9]\n",
      " [6 4 7]]\n"
     ]
    }
   ],
   "source": [
    "def extract_subpart(arr, center, shape, fill_value=0):\n",
    "    half_shape = np.array(shape) // 2\n",
    "    start = np.maximum(center - half_shape, 0)\n",
    "    end = np.minimum(center + half_shape + np.array(shape) % 2, np.array(arr.shape))\n",
    "    result = np.full(shape, fill_value)\n",
    "    slices = tuple(slice(s, e) for s, e in zip(start, end))\n",
    "    result[(slice(None),) * len(arr.shape) + slices[len(arr.shape):]] = arr[slices]\n",
    "    return result\n",
    "\n",
    "arr = np.random.randint(0, 10, size=(10, 10))\n",
    "center = (5, 5)\n",
    "shape = (3, 3)\n",
    "subpart = extract_subpart(arr, center, shape)\n",
    "print(subpart)"
   ]
  },
  {
   "cell_type": "markdown",
   "metadata": {},
   "source": [
    "### 81. Consider an array Z = [1,2,3,4,5,6,7,8,9,10,11,12,13,14], how to generate an array R = [[1,2,3,4], [2,3,4,5], [3,4,5,6], ..., [11,12,13,14]]? (★★★)"
   ]
  },
  {
   "cell_type": "code",
   "execution_count": 15,
   "metadata": {},
   "outputs": [
    {
     "name": "stdout",
     "output_type": "stream",
     "text": [
      "[[ 1  2  3  4]\n",
      " [ 2  3  4  5]\n",
      " [ 3  4  5  6]\n",
      " [ 4  5  6  7]\n",
      " [ 5  6  7  8]\n",
      " [ 6  7  8  9]\n",
      " [ 7  8  9 10]\n",
      " [ 8  9 10 11]\n",
      " [ 9 10 11 12]\n",
      " [10 11 12 13]\n",
      " [11 12 13 14]]\n"
     ]
    }
   ],
   "source": [
    "Z = np.arange(1, 15)\n",
    "n = 4\n",
    "R = np.lib.stride_tricks.sliding_window_view(Z, n)\n",
    "print(R)"
   ]
  },
  {
   "cell_type": "markdown",
   "metadata": {},
   "source": [
    "### 82. Compute a matrix rank (★★★)"
   ]
  },
  {
   "cell_type": "code",
   "execution_count": 16,
   "metadata": {},
   "outputs": [
    {
     "name": "stdout",
     "output_type": "stream",
     "text": [
      "5\n"
     ]
    }
   ],
   "source": [
    "A = np.random.randint(0, 10, size=(5, 5))\n",
    "\n",
    "rank = np.linalg.matrix_rank(A)\n",
    "print(rank)"
   ]
  },
  {
   "cell_type": "markdown",
   "metadata": {},
   "source": [
    "### 83. How to find the most frequent value in an array?"
   ]
  },
  {
   "cell_type": "code",
   "execution_count": 17,
   "metadata": {},
   "outputs": [
    {
     "name": "stdout",
     "output_type": "stream",
     "text": [
      "5\n"
     ]
    }
   ],
   "source": [
    "arr = np.array([1, 2, 3, 3, 3, 4, 4, 5, 5, 5, 5])\n",
    "\n",
    "most_frequent_value = np.bincount(arr).argmax()\n",
    "print(most_frequent_value)"
   ]
  },
  {
   "cell_type": "markdown",
   "metadata": {},
   "source": [
    "### 84. Extract all the contiguous 3x3 blocks from a random 10x10 matrix (★★★)"
   ]
  },
  {
   "cell_type": "code",
   "execution_count": 18,
   "metadata": {},
   "outputs": [
    {
     "name": "stdout",
     "output_type": "stream",
     "text": [
      "[[[[9 2 7]\n",
      "   [9 8 5]\n",
      "   [0 5 4]]\n",
      "\n",
      "  [[2 7 1]\n",
      "   [8 5 3]\n",
      "   [5 4 0]]\n",
      "\n",
      "  [[7 1 4]\n",
      "   [5 3 6]\n",
      "   [4 0 8]]\n",
      "\n",
      "  [[1 4 6]\n",
      "   [3 6 9]\n",
      "   [0 8 2]]\n",
      "\n",
      "  [[4 6 3]\n",
      "   [6 9 3]\n",
      "   [8 2 3]]\n",
      "\n",
      "  [[6 3 8]\n",
      "   [9 3 1]\n",
      "   [2 3 1]]\n",
      "\n",
      "  [[3 8 8]\n",
      "   [3 1 8]\n",
      "   [3 1 0]]\n",
      "\n",
      "  [[8 8 7]\n",
      "   [1 8 8]\n",
      "   [1 0 8]]]\n",
      "\n",
      "\n",
      " [[[9 8 5]\n",
      "   [0 5 4]\n",
      "   [4 0 7]]\n",
      "\n",
      "  [[8 5 3]\n",
      "   [5 4 0]\n",
      "   [0 7 5]]\n",
      "\n",
      "  [[5 3 6]\n",
      "   [4 0 8]\n",
      "   [7 5 8]]\n",
      "\n",
      "  [[3 6 9]\n",
      "   [0 8 2]\n",
      "   [5 8 7]]\n",
      "\n",
      "  [[6 9 3]\n",
      "   [8 2 3]\n",
      "   [8 7 3]]\n",
      "\n",
      "  [[9 3 1]\n",
      "   [2 3 1]\n",
      "   [7 3 5]]\n",
      "\n",
      "  [[3 1 8]\n",
      "   [3 1 0]\n",
      "   [3 5 3]]\n",
      "\n",
      "  [[1 8 8]\n",
      "   [1 0 8]\n",
      "   [5 3 1]]]\n",
      "\n",
      "\n",
      " [[[0 5 4]\n",
      "   [4 0 7]\n",
      "   [4 9 5]]\n",
      "\n",
      "  [[5 4 0]\n",
      "   [0 7 5]\n",
      "   [9 5 3]]\n",
      "\n",
      "  [[4 0 8]\n",
      "   [7 5 8]\n",
      "   [5 3 4]]\n",
      "\n",
      "  [[0 8 2]\n",
      "   [5 8 7]\n",
      "   [3 4 5]]\n",
      "\n",
      "  [[8 2 3]\n",
      "   [8 7 3]\n",
      "   [4 5 3]]\n",
      "\n",
      "  [[2 3 1]\n",
      "   [7 3 5]\n",
      "   [5 3 6]]\n",
      "\n",
      "  [[3 1 0]\n",
      "   [3 5 3]\n",
      "   [3 6 0]]\n",
      "\n",
      "  [[1 0 8]\n",
      "   [5 3 1]\n",
      "   [6 0 6]]]\n",
      "\n",
      "\n",
      " [[[4 0 7]\n",
      "   [4 9 5]\n",
      "   [3 1 7]]\n",
      "\n",
      "  [[0 7 5]\n",
      "   [9 5 3]\n",
      "   [1 7 0]]\n",
      "\n",
      "  [[7 5 8]\n",
      "   [5 3 4]\n",
      "   [7 0 4]]\n",
      "\n",
      "  [[5 8 7]\n",
      "   [3 4 5]\n",
      "   [0 4 2]]\n",
      "\n",
      "  [[8 7 3]\n",
      "   [4 5 3]\n",
      "   [4 2 7]]\n",
      "\n",
      "  [[7 3 5]\n",
      "   [5 3 6]\n",
      "   [2 7 5]]\n",
      "\n",
      "  [[3 5 3]\n",
      "   [3 6 0]\n",
      "   [7 5 6]]\n",
      "\n",
      "  [[5 3 1]\n",
      "   [6 0 6]\n",
      "   [5 6 4]]]\n",
      "\n",
      "\n",
      " [[[4 9 5]\n",
      "   [3 1 7]\n",
      "   [6 1 8]]\n",
      "\n",
      "  [[9 5 3]\n",
      "   [1 7 0]\n",
      "   [1 8 6]]\n",
      "\n",
      "  [[5 3 4]\n",
      "   [7 0 4]\n",
      "   [8 6 9]]\n",
      "\n",
      "  [[3 4 5]\n",
      "   [0 4 2]\n",
      "   [6 9 3]]\n",
      "\n",
      "  [[4 5 3]\n",
      "   [4 2 7]\n",
      "   [9 3 6]]\n",
      "\n",
      "  [[5 3 6]\n",
      "   [2 7 5]\n",
      "   [3 6 9]]\n",
      "\n",
      "  [[3 6 0]\n",
      "   [7 5 6]\n",
      "   [6 9 1]]\n",
      "\n",
      "  [[6 0 6]\n",
      "   [5 6 4]\n",
      "   [9 1 5]]]\n",
      "\n",
      "\n",
      " [[[3 1 7]\n",
      "   [6 1 8]\n",
      "   [2 9 8]]\n",
      "\n",
      "  [[1 7 0]\n",
      "   [1 8 6]\n",
      "   [9 8 5]]\n",
      "\n",
      "  [[7 0 4]\n",
      "   [8 6 9]\n",
      "   [8 5 7]]\n",
      "\n",
      "  [[0 4 2]\n",
      "   [6 9 3]\n",
      "   [5 7 0]]\n",
      "\n",
      "  [[4 2 7]\n",
      "   [9 3 6]\n",
      "   [7 0 6]]\n",
      "\n",
      "  [[2 7 5]\n",
      "   [3 6 9]\n",
      "   [0 6 8]]\n",
      "\n",
      "  [[7 5 6]\n",
      "   [6 9 1]\n",
      "   [6 8 8]]\n",
      "\n",
      "  [[5 6 4]\n",
      "   [9 1 5]\n",
      "   [8 8 5]]]\n",
      "\n",
      "\n",
      " [[[6 1 8]\n",
      "   [2 9 8]\n",
      "   [8 0 8]]\n",
      "\n",
      "  [[1 8 6]\n",
      "   [9 8 5]\n",
      "   [0 8 9]]\n",
      "\n",
      "  [[8 6 9]\n",
      "   [8 5 7]\n",
      "   [8 9 6]]\n",
      "\n",
      "  [[6 9 3]\n",
      "   [5 7 0]\n",
      "   [9 6 1]]\n",
      "\n",
      "  [[9 3 6]\n",
      "   [7 0 6]\n",
      "   [6 1 2]]\n",
      "\n",
      "  [[3 6 9]\n",
      "   [0 6 8]\n",
      "   [1 2 2]]\n",
      "\n",
      "  [[6 9 1]\n",
      "   [6 8 8]\n",
      "   [2 2 8]]\n",
      "\n",
      "  [[9 1 5]\n",
      "   [8 8 5]\n",
      "   [2 8 8]]]\n",
      "\n",
      "\n",
      " [[[2 9 8]\n",
      "   [8 0 8]\n",
      "   [3 1 8]]\n",
      "\n",
      "  [[9 8 5]\n",
      "   [0 8 9]\n",
      "   [1 8 3]]\n",
      "\n",
      "  [[8 5 7]\n",
      "   [8 9 6]\n",
      "   [8 3 7]]\n",
      "\n",
      "  [[5 7 0]\n",
      "   [9 6 1]\n",
      "   [3 7 8]]\n",
      "\n",
      "  [[7 0 6]\n",
      "   [6 1 2]\n",
      "   [7 8 1]]\n",
      "\n",
      "  [[0 6 8]\n",
      "   [1 2 2]\n",
      "   [8 1 2]]\n",
      "\n",
      "  [[6 8 8]\n",
      "   [2 2 8]\n",
      "   [1 2 3]]\n",
      "\n",
      "  [[8 8 5]\n",
      "   [2 8 8]\n",
      "   [2 3 3]]]]\n"
     ]
    }
   ],
   "source": [
    "arr = np.random.randint(0, 10, size=(10, 10))\n",
    "\n",
    "blocks = np.lib.stride_tricks.sliding_window_view(arr, (3, 3))\n",
    "print(blocks)"
   ]
  },
  {
   "cell_type": "markdown",
   "metadata": {},
   "source": [
    "### 85. Create a 2D array subclass such that Z[i,j] == Z[j,i] (★★★)"
   ]
  },
  {
   "cell_type": "code",
   "execution_count": 20,
   "metadata": {},
   "outputs": [
    {
     "name": "stdout",
     "output_type": "stream",
     "text": [
      "[[0. 2. 0.]\n",
      " [2. 0. 0.]\n",
      " [0. 0. 0.]]\n",
      "2.0\n"
     ]
    }
   ],
   "source": [
    "class SymmetricArray(np.ndarray):\n",
    "    def __new__(cls, input_array):\n",
    "        obj = np.asarray(input_array).view(cls)\n",
    "        return obj\n",
    "\n",
    "    def __setitem__(self, index, value):\n",
    "        i, j = index\n",
    "        super().__setitem__((i, j), value)\n",
    "        super().__setitem__((j, i), value)\n",
    "\n",
    "# Create a symmetric 2D array\n",
    "Z = np.zeros((3, 3))\n",
    "symmetric_Z = SymmetricArray(Z)\n",
    "symmetric_Z[0, 1] = 2\n",
    "print(symmetric_Z)\n",
    "print(symmetric_Z[1, 0])  # Output will be 2, as Z[i,j] == Z[j,i]"
   ]
  },
  {
   "cell_type": "markdown",
   "metadata": {},
   "source": [
    "### 86. Consider a set of p matrices with shape (n,n) and a set of p vectors with shape (n,1). How to compute the sum of of the p matrix products at once? (result has shape (n,1)) (★★★)"
   ]
  },
  {
   "cell_type": "code",
   "execution_count": 21,
   "metadata": {},
   "outputs": [
    {
     "name": "stdout",
     "output_type": "stream",
     "text": [
      "[[249]\n",
      " [240]\n",
      " [156]\n",
      " [252]]\n"
     ]
    }
   ],
   "source": [
    "def sum_of_matrix_products(matrices, vectors):\n",
    "    return sum(np.dot(matrix, vector) for matrix, vector in zip(matrices, vectors))\n",
    "\n",
    "# Example usage:\n",
    "p = 3\n",
    "n = 4\n",
    "matrices = [np.random.randint(0, 10, size=(n, n)) for _ in range(p)]\n",
    "vectors = [np.random.randint(0, 10, size=(n, 1)) for _ in range(p)]\n",
    "\n",
    "result = sum_of_matrix_products(matrices, vectors)\n",
    "print(result)"
   ]
  },
  {
   "cell_type": "markdown",
   "metadata": {},
   "source": [
    "### 87. Consider a 16x16 array, how to get the block-sum (block size is 4x4)? (★★★)"
   ]
  },
  {
   "cell_type": "code",
   "execution_count": 22,
   "metadata": {},
   "outputs": [
    {
     "name": "stdout",
     "output_type": "stream",
     "text": [
      "[[71 59 74 75]\n",
      " [87 66 78 81]\n",
      " [64 91 50 79]\n",
      " [64 51 74 80]]\n"
     ]
    }
   ],
   "source": [
    "arr = np.random.randint(0, 10, size=(16, 16))\n",
    "\n",
    "block_sum = np.sum(arr.reshape(4, 4, -1, 4).swapaxes(1, 2), axis=(-2, -1))\n",
    "print(block_sum)"
   ]
  },
  {
   "cell_type": "markdown",
   "metadata": {},
   "source": [
    "### 88. How to implement the Game of Life using numpy arrays? (★★★)"
   ]
  },
  {
   "cell_type": "code",
   "execution_count": 23,
   "metadata": {},
   "outputs": [
    {
     "name": "stderr",
     "output_type": "stream",
     "text": [
      "/tmp/ipykernel_909/2112240552.py:34: UserWarning: You passed in an explicit save_count=50 which is being ignored in favor of frames=100.\n",
      "  ani = animation.FuncAnimation(fig, update, fargs=(img, grid, N,), frames=frames, interval=50, save_count=50)\n"
     ]
    },
    {
     "data": {
      "image/png": "[encoded data removed]",
      "text/plain": [
       "<Figure size 640x480 with 1 Axes>"
      ]
     },
     "metadata": {},
     "output_type": "display_data"
    }
   ],
   "source": [
    "import matplotlib.pyplot as plt\n",
    "import matplotlib.animation as animation\n",
    "\n",
    "def update(frameNum, img, grid, N):\n",
    "    new_grid = grid.copy()\n",
    "    for i in range(N):\n",
    "        for j in range(N):\n",
    "            total = int((grid[i, (j-1)%N] + grid[i, (j+1)%N] +\n",
    "                         grid[(i-1)%N, j] + grid[(i+1)%N, j] +\n",
    "                         grid[(i-1)%N, (j-1)%N] + grid[(i-1)%N, (j+1)%N] +\n",
    "                         grid[(i+1)%N, (j-1)%N] + grid[(i+1)%N, (j+1)%N])/255)\n",
    "            if grid[i, j] == ON:\n",
    "                if (total < 2) or (total > 3):\n",
    "                    new_grid[i, j] = OFF\n",
    "            else:\n",
    "                if total == 3:\n",
    "                    new_grid[i, j] = ON\n",
    "    img.set_data(new_grid)\n",
    "    grid[:] = new_grid[:]\n",
    "    return img\n",
    "\n",
    "# Parameters\n",
    "N = 100\n",
    "ON = 255\n",
    "OFF = 0\n",
    "frames = 100\n",
    "\n",
    "# Initialize grid\n",
    "grid = np.random.choice([ON, OFF], N*N, p=[0.2, 0.8]).reshape(N, N)\n",
    "\n",
    "# Set up animation\n",
    "fig, ax = plt.subplots()\n",
    "img = ax.imshow(grid, interpolation='nearest')\n",
    "ani = animation.FuncAnimation(fig, update, fargs=(img, grid, N,), frames=frames, interval=50, save_count=50)\n",
    "\n",
    "plt.show()"
   ]
  },
  {
   "cell_type": "markdown",
   "metadata": {},
   "source": [
    "### 89. How to get the n largest values of an array (★★★)"
   ]
  },
  {
   "cell_type": "code",
   "execution_count": 24,
   "metadata": {},
   "outputs": [
    {
     "name": "stdout",
     "output_type": "stream",
     "text": [
      "[6 7 8 9]\n"
     ]
    }
   ],
   "source": [
    "arr = np.array([1, 6, 3, 9, 2, 8, 5, 7, 4])\n",
    "\n",
    "n_largest_values = np.sort(arr)[-n:]\n",
    "print(n_largest_values)"
   ]
  },
  {
   "cell_type": "markdown",
   "metadata": {},
   "source": [
    "### 90. Given an arbitrary number of vectors, build the cartesian product (every combinations of every item) (★★★)"
   ]
  },
  {
   "cell_type": "code",
   "execution_count": 25,
   "metadata": {},
   "outputs": [
    {
     "data": {
      "text/plain": [
       "array([[1, 4, 6],\n",
       "       [1, 4, 7],\n",
       "       [1, 4, 8],\n",
       "       [1, 5, 6],\n",
       "       [1, 5, 7],\n",
       "       [1, 5, 8],\n",
       "       [2, 4, 6],\n",
       "       [2, 4, 7],\n",
       "       [2, 4, 8],\n",
       "       [2, 5, 6],\n",
       "       [2, 5, 7],\n",
       "       [2, 5, 8],\n",
       "       [3, 4, 6],\n",
       "       [3, 4, 7],\n",
       "       [3, 4, 8],\n",
       "       [3, 5, 6],\n",
       "       [3, 5, 7],\n",
       "       [3, 5, 8]])"
      ]
     },
     "execution_count": 25,
     "metadata": {},
     "output_type": "execute_result"
    }
   ],
   "source": [
    "\n",
    "def cartesian_product(*arrays):\n",
    "    mesh = np.meshgrid(*arrays, indexing='ij')\n",
    "    shape = mesh[0].shape + (len(arrays),)\n",
    "    return np.column_stack([m.flatten() for m in mesh])\n",
    "\n",
    "# Example usage:\n",
    "v1 = np.array([1, 2, 3])\n",
    "v2 = np.array([4, 5])\n",
    "v3 = np.array([6, 7, 8])\n",
    "\n",
    "cartesian_product(v1, v2, v3)"
   ]
  },
  {
   "cell_type": "markdown",
   "metadata": {},
   "source": [
    "### 91. How to create a record array from a regular array? (★★★)"
   ]
  },
  {
   "cell_type": "code",
   "execution_count": 26,
   "metadata": {},
   "outputs": [
    {
     "name": "stdout",
     "output_type": "stream",
     "text": [
      "((1, 'A'), (2, 'B'), (3, 'C'))\n"
     ]
    }
   ],
   "source": [
    "arr = np.array([(1, 'A'), (2, 'B'), (3, 'C')], dtype=[('id', int), ('name', 'U1')])\n",
    "\n",
    "record_array = np.core.records.fromarrays(arr.transpose(), names='id, name')\n",
    "print(record_array)"
   ]
  },
  {
   "cell_type": "markdown",
   "metadata": {},
   "source": [
    "### 92. Consider a large vector Z, compute Z to the power of 3 using 3 different methods (★★★)"
   ]
  },
  {
   "cell_type": "code",
   "execution_count": 27,
   "metadata": {},
   "outputs": [
    {
     "name": "stdout",
     "output_type": "stream",
     "text": [
      "[  8  64   1 216 216 216  64 729  64   1]\n",
      "[  8  64   1 216 216 216  64 729  64   1]\n",
      "[  8  64   1 216 216 216  64 729  64   1]\n"
     ]
    }
   ],
   "source": [
    "Z = np.random.randint(1, 10, size=10)\n",
    "\n",
    "# Method 1: Using numpy's power function\n",
    "result1 = np.power(Z, 3)\n",
    "\n",
    "# Method 2: Using the ** operator\n",
    "result2 = Z ** 3\n",
    "\n",
    "# Method 3: Multiplying Z with itself three times\n",
    "result3 = Z * Z * Z\n",
    "\n",
    "print(result1)\n",
    "print(result2)\n",
    "print(result3)"
   ]
  },
  {
   "cell_type": "markdown",
   "metadata": {},
   "source": [
    "### 93. Consider two arrays A and B of shape (8,3) and (2,2). How to find rows of A that contain elements of each row of B regardless of the order of the elements in B? (★★★)"
   ]
  },
  {
   "cell_type": "code",
   "execution_count": 28,
   "metadata": {},
   "outputs": [
    {
     "name": "stdout",
     "output_type": "stream",
     "text": [
      "[[0 2 4]\n",
      " [4 2 0]\n",
      " [1 2 0]\n",
      " [2 0 4]]\n"
     ]
    }
   ],
   "source": [
    "A = np.random.randint(0, 5, size=(8, 3))\n",
    "B = np.random.randint(0, 5, size=(2, 2))\n",
    "\n",
    "rows = np.all(np.isin(A[:, :, None], B.T), axis=1).any(axis=1)\n",
    "\n",
    "print(A[rows])"
   ]
  },
  {
   "cell_type": "markdown",
   "metadata": {},
   "source": [
    "### 94. Considering a 10x3 matrix, extract rows with unequal values (e.g. [2,2,3]) (★★★)"
   ]
  },
  {
   "cell_type": "code",
   "execution_count": 29,
   "metadata": {},
   "outputs": [
    {
     "name": "stdout",
     "output_type": "stream",
     "text": [
      "[[1 0 1]\n",
      " [1 0 2]\n",
      " [1 1 2]\n",
      " [0 0 1]\n",
      " [2 0 0]\n",
      " [1 0 0]\n",
      " [2 0 2]\n",
      " [0 0 1]\n",
      " [0 2 0]\n",
      " [2 2 1]]\n"
     ]
    }
   ],
   "source": [
    "arr = np.random.randint(0, 3, size=(10, 3))\n",
    "\n",
    "unequal_rows = arr[np.any(arr[:, 1:] != arr[:, :-1], axis=1)]\n",
    "print(unequal_rows)"
   ]
  },
  {
   "cell_type": "markdown",
   "metadata": {},
   "source": [
    "### 95. Convert a vector of ints into a matrix binary representation (★★★)"
   ]
  },
  {
   "cell_type": "code",
   "execution_count": 30,
   "metadata": {},
   "outputs": [
    {
     "name": "stdout",
     "output_type": "stream",
     "text": [
      "[[1. 0. 0.]\n",
      " [0. 1. 0.]\n",
      " [0. 0. 1.]]\n"
     ]
    }
   ],
   "source": [
    "vector = np.array([1, 2, 3])\n",
    "\n",
    "# Get the maximum value in the vector\n",
    "max_value = np.max(vector)\n",
    "\n",
    "# Create a binary matrix with shape (len(vector), max_value) filled with zeros\n",
    "binary_matrix = np.zeros((len(vector), max_value))\n",
    "\n",
    "# Set the corresponding indices to 1\n",
    "binary_matrix[np.arange(len(vector)), vector - 1] = 1\n",
    "\n",
    "print(binary_matrix)"
   ]
  },
  {
   "cell_type": "markdown",
   "metadata": {},
   "source": [
    "### 96. Given a two dimensional array, how to extract unique rows? (★★★)"
   ]
  },
  {
   "cell_type": "code",
   "execution_count": 31,
   "metadata": {},
   "outputs": [
    {
     "name": "stdout",
     "output_type": "stream",
     "text": [
      "[[1 2 3]\n",
      " [4 5 6]\n",
      " [7 8 9]]\n"
     ]
    }
   ],
   "source": [
    "array = np.array([[1, 2, 3], [4, 5, 6], [1, 2, 3], [7, 8, 9]])\n",
    "\n",
    "# Get unique rows\n",
    "unique_rows = np.unique(array, axis=0)\n",
    "\n",
    "print(unique_rows)"
   ]
  },
  {
   "cell_type": "markdown",
   "metadata": {},
   "source": [
    "### 97. Considering 2 vectors A & B, write the einsum equivalent of inner, outer, sum, and mul function (★★★)"
   ]
  },
  {
   "cell_type": "code",
   "execution_count": 32,
   "metadata": {},
   "outputs": [
    {
     "name": "stdout",
     "output_type": "stream",
     "text": [
      "Inner product: 32\n",
      "Outer product:\n",
      " [[ 4  5  6]\n",
      " [ 8 10 12]\n",
      " [12 15 18]]\n",
      "Sum: 6\n",
      "Elementwise product: [ 4 10 18]\n"
     ]
    }
   ],
   "source": [
    "A = np.array([1, 2, 3])\n",
    "B = np.array([4, 5, 6])\n",
    "\n",
    "# Inner product\n",
    "inner_product = np.einsum('i,i->', A, B)\n",
    "\n",
    "# Outer product\n",
    "outer_product = np.einsum('i,j->ij', A, B)\n",
    "\n",
    "# Sum\n",
    "total_sum = np.einsum('i->', A)\n",
    "\n",
    "# Multiply\n",
    "elementwise_product = np.einsum('i,i->i', A, B)\n",
    "\n",
    "print(\"Inner product:\", inner_product)\n",
    "print(\"Outer product:\\n\", outer_product)\n",
    "print(\"Sum:\", total_sum)\n",
    "print(\"Elementwise product:\", elementwise_product)"
   ]
  },
  {
   "cell_type": "markdown",
   "metadata": {},
   "source": [
    "### 98. Considering a path described by two vectors (X,Y), how to sample it using equidistant samples (★★★)?"
   ]
  },
  {
   "cell_type": "code",
   "execution_count": 33,
   "metadata": {},
   "outputs": [
    {
     "name": "stdout",
     "output_type": "stream",
     "text": [
      "Sampled X: [1.         1.33333333 1.66666667 2.         2.33333333 2.66666667\n",
      " 3.         3.33333333 3.66666667 4.        ]\n",
      "Sampled Y: [5.         5.33333333 5.66666667 6.         6.33333333 6.66666667\n",
      " 7.         7.33333333 7.66666667 8.        ]\n"
     ]
    }
   ],
   "source": [
    "def sample_equidistant_path(X, Y, num_samples):\n",
    "    t = np.linspace(0, 1, len(X))\n",
    "    new_t = np.linspace(0, 1, num_samples)\n",
    "    new_X = np.interp(new_t, t, X)\n",
    "    new_Y = np.interp(new_t, t, Y)\n",
    "    return new_X, new_Y\n",
    "\n",
    "# Example usage:\n",
    "X = np.array([1, 2, 3, 4])\n",
    "Y = np.array([5, 6, 7, 8])\n",
    "num_samples = 10\n",
    "sampled_X, sampled_Y = sample_equidistant_path(X, Y, num_samples)\n",
    "print(\"Sampled X:\", sampled_X)\n",
    "print(\"Sampled Y:\", sampled_Y)"
   ]
  },
  {
   "cell_type": "markdown",
   "metadata": {},
   "source": [
    "### 99. Given an integer n and a 2D array X, select from X the rows which can be interpreted as draws from a multinomial distribution with n degrees, i.e., the rows which only contain integers and which sum to n. (★★★)"
   ]
  },
  {
   "cell_type": "code",
   "execution_count": 34,
   "metadata": {},
   "outputs": [
    {
     "name": "stdout",
     "output_type": "stream",
     "text": [
      "Sampled X: [1.         1.44444444 1.88888889 2.33333333 2.77777778 3.22222222\n",
      " 3.66666667 4.11111111 4.55555556 5.        ]\n",
      "Sampled Y: [ 6.          6.44444444  6.88888889  7.33333333  7.77777778  8.22222222\n",
      "  8.66666667  9.11111111  9.55555556 10.        ]\n"
     ]
    }
   ],
   "source": [
    "X = np.array([1, 2, 3, 4, 5])\n",
    "Y = np.array([6, 7, 8, 9, 10])\n",
    "\n",
    "# Compute equidistant samples\n",
    "num_samples = 10\n",
    "sampled_X = np.linspace(X.min(), X.max(), num_samples)\n",
    "sampled_Y = np.interp(sampled_X, X, Y)\n",
    "\n",
    "print(\"Sampled X:\", sampled_X)\n",
    "print(\"Sampled Y:\", sampled_Y)"
   ]
  },
  {
   "cell_type": "markdown",
   "metadata": {},
   "source": [
    "### 100. Compute bootstrapped 95% confidence intervals for the mean of a 1D array X (i.e., resample the elements of an array with replacement N times, compute the mean of each sample, and then compute percentiles over the means). (★★★)"
   ]
  },
  {
   "cell_type": "code",
   "execution_count": 35,
   "metadata": {},
   "outputs": [
    {
     "name": "stdout",
     "output_type": "stream",
     "text": [
      "95% Confidence Interval for the Mean: [-0.16976037  0.24665306]\n"
     ]
    }
   ],
   "source": [
    "X = np.random.normal(loc=0, scale=1, size=100)\n",
    "\n",
    "# Number of bootstrap samples\n",
    "N = 1000\n",
    "\n",
    "# Compute bootstrap samples\n",
    "bootstrap_means = [np.mean(np.random.choice(X, size=len(X), replace=True)) for _ in range(N)]\n",
    "\n",
    "# Compute confidence intervals\n",
    "confidence_interval = np.percentile(bootstrap_means, [2.5, 97.5])\n",
    "\n",
    "print(\"95% Confidence Interval for the Mean:\", confidence_interval)"
   ]
  },
  {
   "cell_type": "markdown",
   "metadata": {},
   "source": [
    "### (★★★) (★★★) (★★★)"
   ]
  }
 ],
 "metadata": {
  "kernelspec": {
   "display_name": "datascience",
   "language": "python",
   "name": "python3"
  },
  "language_info": {
   "codemirror_mode": {
    "name": "ipython",
    "version": 3
   },
   "file_extension": ".py",
   "mimetype": "text/x-python",
   "name": "python",
   "nbconvert_exporter": "python",
   "pygments_lexer": "ipython3",
   "version": "3.8.18"
  }
 },
 "nbformat": 4,
 "nbformat_minor": 2
}
